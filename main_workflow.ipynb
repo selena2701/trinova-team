{
 "cells": [
  {
   "cell_type": "code",
   "execution_count": 1,
   "id": "b4f48ee0",
   "metadata": {},
   "outputs": [
    {
     "name": "stdout",
     "output_type": "stream",
     "text": [
      "Requirement already satisfied: requests in /Users/nausicaa/.pyenv/versions/3.12.6/lib/python3.12/site-packages (2.32.5)\n",
      "Requirement already satisfied: google-genai in /Users/nausicaa/.pyenv/versions/3.12.6/lib/python3.12/site-packages (1.45.0)\n",
      "Requirement already satisfied: python-dotenv in /Users/nausicaa/.pyenv/versions/3.12.6/lib/python3.12/site-packages (1.1.1)\n",
      "Requirement already satisfied: charset_normalizer<4,>=2 in /Users/nausicaa/.pyenv/versions/3.12.6/lib/python3.12/site-packages (from requests) (3.4.4)\n",
      "Requirement already satisfied: idna<4,>=2.5 in /Users/nausicaa/.pyenv/versions/3.12.6/lib/python3.12/site-packages (from requests) (3.11)\n",
      "Requirement already satisfied: urllib3<3,>=1.21.1 in /Users/nausicaa/.pyenv/versions/3.12.6/lib/python3.12/site-packages (from requests) (2.5.0)\n",
      "Requirement already satisfied: certifi>=2017.4.17 in /Users/nausicaa/.pyenv/versions/3.12.6/lib/python3.12/site-packages (from requests) (2025.10.5)\n",
      "Requirement already satisfied: anyio<5.0.0,>=4.8.0 in /Users/nausicaa/.pyenv/versions/3.12.6/lib/python3.12/site-packages (from google-genai) (4.11.0)\n",
      "Requirement already satisfied: google-auth<3.0.0,>=2.14.1 in /Users/nausicaa/.pyenv/versions/3.12.6/lib/python3.12/site-packages (from google-genai) (2.41.1)\n",
      "Requirement already satisfied: httpx<1.0.0,>=0.28.1 in /Users/nausicaa/.pyenv/versions/3.12.6/lib/python3.12/site-packages (from google-genai) (0.28.1)\n",
      "Requirement already satisfied: pydantic<3.0.0,>=2.0.0 in /Users/nausicaa/.pyenv/versions/3.12.6/lib/python3.12/site-packages (from google-genai) (2.12.3)\n",
      "Requirement already satisfied: tenacity<9.2.0,>=8.2.3 in /Users/nausicaa/.pyenv/versions/3.12.6/lib/python3.12/site-packages (from google-genai) (9.1.2)\n",
      "Requirement already satisfied: websockets<15.1.0,>=13.0.0 in /Users/nausicaa/.pyenv/versions/3.12.6/lib/python3.12/site-packages (from google-genai) (15.0.1)\n",
      "Requirement already satisfied: typing-extensions<5.0.0,>=4.11.0 in /Users/nausicaa/.pyenv/versions/3.12.6/lib/python3.12/site-packages (from google-genai) (4.15.0)\n",
      "Requirement already satisfied: sniffio>=1.1 in /Users/nausicaa/.pyenv/versions/3.12.6/lib/python3.12/site-packages (from anyio<5.0.0,>=4.8.0->google-genai) (1.3.1)\n",
      "Requirement already satisfied: cachetools<7.0,>=2.0.0 in /Users/nausicaa/.pyenv/versions/3.12.6/lib/python3.12/site-packages (from google-auth<3.0.0,>=2.14.1->google-genai) (6.2.1)\n",
      "Requirement already satisfied: pyasn1-modules>=0.2.1 in /Users/nausicaa/.pyenv/versions/3.12.6/lib/python3.12/site-packages (from google-auth<3.0.0,>=2.14.1->google-genai) (0.4.2)\n",
      "Requirement already satisfied: rsa<5,>=3.1.4 in /Users/nausicaa/.pyenv/versions/3.12.6/lib/python3.12/site-packages (from google-auth<3.0.0,>=2.14.1->google-genai) (4.9.1)\n",
      "Requirement already satisfied: httpcore==1.* in /Users/nausicaa/.pyenv/versions/3.12.6/lib/python3.12/site-packages (from httpx<1.0.0,>=0.28.1->google-genai) (1.0.9)\n",
      "Requirement already satisfied: h11>=0.16 in /Users/nausicaa/.pyenv/versions/3.12.6/lib/python3.12/site-packages (from httpcore==1.*->httpx<1.0.0,>=0.28.1->google-genai) (0.16.0)\n",
      "Requirement already satisfied: annotated-types>=0.6.0 in /Users/nausicaa/.pyenv/versions/3.12.6/lib/python3.12/site-packages (from pydantic<3.0.0,>=2.0.0->google-genai) (0.7.0)\n",
      "Requirement already satisfied: pydantic-core==2.41.4 in /Users/nausicaa/.pyenv/versions/3.12.6/lib/python3.12/site-packages (from pydantic<3.0.0,>=2.0.0->google-genai) (2.41.4)\n",
      "Requirement already satisfied: typing-inspection>=0.4.2 in /Users/nausicaa/.pyenv/versions/3.12.6/lib/python3.12/site-packages (from pydantic<3.0.0,>=2.0.0->google-genai) (0.4.2)\n",
      "Requirement already satisfied: pyasn1>=0.1.3 in /Users/nausicaa/.pyenv/versions/3.12.6/lib/python3.12/site-packages (from rsa<5,>=3.1.4->google-auth<3.0.0,>=2.14.1->google-genai) (0.6.1)\n",
      "Note: you may need to restart the kernel to use updated packages.\n",
      "Requirement already satisfied: opencv-python in /Users/nausicaa/.pyenv/versions/3.12.6/lib/python3.12/site-packages (4.12.0.88)\n",
      "Requirement already satisfied: pillow in /Users/nausicaa/.pyenv/versions/3.12.6/lib/python3.12/site-packages (11.3.0)\n",
      "Requirement already satisfied: numpy in /Users/nausicaa/.pyenv/versions/3.12.6/lib/python3.12/site-packages (2.2.6)\n",
      "Requirement already satisfied: pandas in /Users/nausicaa/.pyenv/versions/3.12.6/lib/python3.12/site-packages (2.3.3)\n",
      "Requirement already satisfied: matplotlib in /Users/nausicaa/.pyenv/versions/3.12.6/lib/python3.12/site-packages (3.10.7)\n",
      "Requirement already satisfied: seaborn in /Users/nausicaa/.pyenv/versions/3.12.6/lib/python3.12/site-packages (0.13.2)\n",
      "Requirement already satisfied: python-dateutil>=2.8.2 in /Users/nausicaa/.pyenv/versions/3.12.6/lib/python3.12/site-packages (from pandas) (2.9.0.post0)\n",
      "Requirement already satisfied: pytz>=2020.1 in /Users/nausicaa/.pyenv/versions/3.12.6/lib/python3.12/site-packages (from pandas) (2025.2)\n",
      "Requirement already satisfied: tzdata>=2022.7 in /Users/nausicaa/.pyenv/versions/3.12.6/lib/python3.12/site-packages (from pandas) (2025.2)\n",
      "Requirement already satisfied: contourpy>=1.0.1 in /Users/nausicaa/.pyenv/versions/3.12.6/lib/python3.12/site-packages (from matplotlib) (1.3.3)\n",
      "Requirement already satisfied: cycler>=0.10 in /Users/nausicaa/.pyenv/versions/3.12.6/lib/python3.12/site-packages (from matplotlib) (0.12.1)\n",
      "Requirement already satisfied: fonttools>=4.22.0 in /Users/nausicaa/.pyenv/versions/3.12.6/lib/python3.12/site-packages (from matplotlib) (4.60.1)\n",
      "Requirement already satisfied: kiwisolver>=1.3.1 in /Users/nausicaa/.pyenv/versions/3.12.6/lib/python3.12/site-packages (from matplotlib) (1.4.9)\n",
      "Requirement already satisfied: packaging>=20.0 in /Users/nausicaa/.pyenv/versions/3.12.6/lib/python3.12/site-packages (from matplotlib) (25.0)\n",
      "Requirement already satisfied: pyparsing>=3 in /Users/nausicaa/.pyenv/versions/3.12.6/lib/python3.12/site-packages (from matplotlib) (3.2.5)\n",
      "Requirement already satisfied: six>=1.5 in /Users/nausicaa/.pyenv/versions/3.12.6/lib/python3.12/site-packages (from python-dateutil>=2.8.2->pandas) (1.17.0)\n",
      "Note: you may need to restart the kernel to use updated packages.\n",
      "Requirement already satisfied: ffmpeg-python in /Users/nausicaa/.pyenv/versions/3.12.6/lib/python3.12/site-packages (0.2.0)\n",
      "Requirement already satisfied: moviepy in /Users/nausicaa/.pyenv/versions/3.12.6/lib/python3.12/site-packages (1.0.3)\n",
      "Requirement already satisfied: future in /Users/nausicaa/.pyenv/versions/3.12.6/lib/python3.12/site-packages (from ffmpeg-python) (1.0.0)\n",
      "Requirement already satisfied: decorator<5.0,>=4.0.2 in /Users/nausicaa/.pyenv/versions/3.12.6/lib/python3.12/site-packages (from moviepy) (4.4.2)\n",
      "Requirement already satisfied: imageio<3.0,>=2.5 in /Users/nausicaa/.pyenv/versions/3.12.6/lib/python3.12/site-packages (from moviepy) (2.37.0)\n",
      "Requirement already satisfied: imageio_ffmpeg>=0.2.0 in /Users/nausicaa/.pyenv/versions/3.12.6/lib/python3.12/site-packages (from moviepy) (0.6.0)\n",
      "Requirement already satisfied: tqdm<5.0,>=4.11.2 in /Users/nausicaa/.pyenv/versions/3.12.6/lib/python3.12/site-packages (from moviepy) (4.67.1)\n",
      "Requirement already satisfied: numpy>=1.17.3 in /Users/nausicaa/.pyenv/versions/3.12.6/lib/python3.12/site-packages (from moviepy) (2.2.6)\n",
      "Requirement already satisfied: requests<3.0,>=2.8.1 in /Users/nausicaa/.pyenv/versions/3.12.6/lib/python3.12/site-packages (from moviepy) (2.32.5)\n",
      "Requirement already satisfied: proglog<=1.0.0 in /Users/nausicaa/.pyenv/versions/3.12.6/lib/python3.12/site-packages (from moviepy) (0.1.12)\n",
      "Requirement already satisfied: pillow>=8.3.2 in /Users/nausicaa/.pyenv/versions/3.12.6/lib/python3.12/site-packages (from imageio<3.0,>=2.5->moviepy) (11.3.0)\n",
      "Requirement already satisfied: charset_normalizer<4,>=2 in /Users/nausicaa/.pyenv/versions/3.12.6/lib/python3.12/site-packages (from requests<3.0,>=2.8.1->moviepy) (3.4.4)\n",
      "Requirement already satisfied: idna<4,>=2.5 in /Users/nausicaa/.pyenv/versions/3.12.6/lib/python3.12/site-packages (from requests<3.0,>=2.8.1->moviepy) (3.11)\n",
      "Requirement already satisfied: urllib3<3,>=1.21.1 in /Users/nausicaa/.pyenv/versions/3.12.6/lib/python3.12/site-packages (from requests<3.0,>=2.8.1->moviepy) (2.5.0)\n",
      "Requirement already satisfied: certifi>=2017.4.17 in /Users/nausicaa/.pyenv/versions/3.12.6/lib/python3.12/site-packages (from requests<3.0,>=2.8.1->moviepy) (2025.10.5)\n",
      "Note: you may need to restart the kernel to use updated packages.\n",
      "Requirement already satisfied: streamlit in /Users/nausicaa/.pyenv/versions/3.12.6/lib/python3.12/site-packages (1.50.0)\n",
      "Requirement already satisfied: flask in /Users/nausicaa/.pyenv/versions/3.12.6/lib/python3.12/site-packages (3.1.2)\n",
      "Requirement already satisfied: fastapi in /Users/nausicaa/.pyenv/versions/3.12.6/lib/python3.12/site-packages (0.119.1)\n",
      "Requirement already satisfied: altair!=5.4.0,!=5.4.1,<6,>=4.0 in /Users/nausicaa/.pyenv/versions/3.12.6/lib/python3.12/site-packages (from streamlit) (5.5.0)\n",
      "Requirement already satisfied: blinker<2,>=1.5.0 in /Users/nausicaa/.pyenv/versions/3.12.6/lib/python3.12/site-packages (from streamlit) (1.9.0)\n",
      "Requirement already satisfied: cachetools<7,>=4.0 in /Users/nausicaa/.pyenv/versions/3.12.6/lib/python3.12/site-packages (from streamlit) (6.2.1)\n",
      "Requirement already satisfied: click<9,>=7.0 in /Users/nausicaa/.pyenv/versions/3.12.6/lib/python3.12/site-packages (from streamlit) (8.3.0)\n",
      "Requirement already satisfied: numpy<3,>=1.23 in /Users/nausicaa/.pyenv/versions/3.12.6/lib/python3.12/site-packages (from streamlit) (2.2.6)\n",
      "Requirement already satisfied: packaging<26,>=20 in /Users/nausicaa/.pyenv/versions/3.12.6/lib/python3.12/site-packages (from streamlit) (25.0)\n",
      "Requirement already satisfied: pandas<3,>=1.4.0 in /Users/nausicaa/.pyenv/versions/3.12.6/lib/python3.12/site-packages (from streamlit) (2.3.3)\n",
      "Requirement already satisfied: pillow<12,>=7.1.0 in /Users/nausicaa/.pyenv/versions/3.12.6/lib/python3.12/site-packages (from streamlit) (11.3.0)\n",
      "Requirement already satisfied: protobuf<7,>=3.20 in /Users/nausicaa/.pyenv/versions/3.12.6/lib/python3.12/site-packages (from streamlit) (6.33.0)\n",
      "Requirement already satisfied: pyarrow>=7.0 in /Users/nausicaa/.pyenv/versions/3.12.6/lib/python3.12/site-packages (from streamlit) (21.0.0)\n",
      "Requirement already satisfied: requests<3,>=2.27 in /Users/nausicaa/.pyenv/versions/3.12.6/lib/python3.12/site-packages (from streamlit) (2.32.5)\n",
      "Requirement already satisfied: tenacity<10,>=8.1.0 in /Users/nausicaa/.pyenv/versions/3.12.6/lib/python3.12/site-packages (from streamlit) (9.1.2)\n",
      "Requirement already satisfied: toml<2,>=0.10.1 in /Users/nausicaa/.pyenv/versions/3.12.6/lib/python3.12/site-packages (from streamlit) (0.10.2)\n",
      "Requirement already satisfied: typing-extensions<5,>=4.4.0 in /Users/nausicaa/.pyenv/versions/3.12.6/lib/python3.12/site-packages (from streamlit) (4.15.0)\n",
      "Requirement already satisfied: gitpython!=3.1.19,<4,>=3.0.7 in /Users/nausicaa/.pyenv/versions/3.12.6/lib/python3.12/site-packages (from streamlit) (3.1.45)\n",
      "Requirement already satisfied: pydeck<1,>=0.8.0b4 in /Users/nausicaa/.pyenv/versions/3.12.6/lib/python3.12/site-packages (from streamlit) (0.9.1)\n",
      "Requirement already satisfied: tornado!=6.5.0,<7,>=6.0.3 in /Users/nausicaa/.pyenv/versions/3.12.6/lib/python3.12/site-packages (from streamlit) (6.5.2)\n",
      "Requirement already satisfied: jinja2 in /Users/nausicaa/.pyenv/versions/3.12.6/lib/python3.12/site-packages (from altair!=5.4.0,!=5.4.1,<6,>=4.0->streamlit) (3.1.6)\n",
      "Requirement already satisfied: jsonschema>=3.0 in /Users/nausicaa/.pyenv/versions/3.12.6/lib/python3.12/site-packages (from altair!=5.4.0,!=5.4.1,<6,>=4.0->streamlit) (4.25.1)\n",
      "Requirement already satisfied: narwhals>=1.14.2 in /Users/nausicaa/.pyenv/versions/3.12.6/lib/python3.12/site-packages (from altair!=5.4.0,!=5.4.1,<6,>=4.0->streamlit) (2.9.0)\n",
      "Requirement already satisfied: gitdb<5,>=4.0.1 in /Users/nausicaa/.pyenv/versions/3.12.6/lib/python3.12/site-packages (from gitpython!=3.1.19,<4,>=3.0.7->streamlit) (4.0.12)\n",
      "Requirement already satisfied: smmap<6,>=3.0.1 in /Users/nausicaa/.pyenv/versions/3.12.6/lib/python3.12/site-packages (from gitdb<5,>=4.0.1->gitpython!=3.1.19,<4,>=3.0.7->streamlit) (5.0.2)\n",
      "Requirement already satisfied: python-dateutil>=2.8.2 in /Users/nausicaa/.pyenv/versions/3.12.6/lib/python3.12/site-packages (from pandas<3,>=1.4.0->streamlit) (2.9.0.post0)\n",
      "Requirement already satisfied: pytz>=2020.1 in /Users/nausicaa/.pyenv/versions/3.12.6/lib/python3.12/site-packages (from pandas<3,>=1.4.0->streamlit) (2025.2)\n",
      "Requirement already satisfied: tzdata>=2022.7 in /Users/nausicaa/.pyenv/versions/3.12.6/lib/python3.12/site-packages (from pandas<3,>=1.4.0->streamlit) (2025.2)\n",
      "Requirement already satisfied: charset_normalizer<4,>=2 in /Users/nausicaa/.pyenv/versions/3.12.6/lib/python3.12/site-packages (from requests<3,>=2.27->streamlit) (3.4.4)\n",
      "Requirement already satisfied: idna<4,>=2.5 in /Users/nausicaa/.pyenv/versions/3.12.6/lib/python3.12/site-packages (from requests<3,>=2.27->streamlit) (3.11)\n",
      "Requirement already satisfied: urllib3<3,>=1.21.1 in /Users/nausicaa/.pyenv/versions/3.12.6/lib/python3.12/site-packages (from requests<3,>=2.27->streamlit) (2.5.0)\n",
      "Requirement already satisfied: certifi>=2017.4.17 in /Users/nausicaa/.pyenv/versions/3.12.6/lib/python3.12/site-packages (from requests<3,>=2.27->streamlit) (2025.10.5)\n",
      "Requirement already satisfied: itsdangerous>=2.2.0 in /Users/nausicaa/.pyenv/versions/3.12.6/lib/python3.12/site-packages (from flask) (2.2.0)\n",
      "Requirement already satisfied: markupsafe>=2.1.1 in /Users/nausicaa/.pyenv/versions/3.12.6/lib/python3.12/site-packages (from flask) (3.0.3)\n",
      "Requirement already satisfied: werkzeug>=3.1.0 in /Users/nausicaa/.pyenv/versions/3.12.6/lib/python3.12/site-packages (from flask) (3.1.3)\n",
      "Requirement already satisfied: starlette<0.49.0,>=0.40.0 in /Users/nausicaa/.pyenv/versions/3.12.6/lib/python3.12/site-packages (from fastapi) (0.48.0)\n",
      "Requirement already satisfied: pydantic!=1.8,!=1.8.1,!=2.0.0,!=2.0.1,!=2.1.0,<3.0.0,>=1.7.4 in /Users/nausicaa/.pyenv/versions/3.12.6/lib/python3.12/site-packages (from fastapi) (2.12.3)\n",
      "Requirement already satisfied: annotated-types>=0.6.0 in /Users/nausicaa/.pyenv/versions/3.12.6/lib/python3.12/site-packages (from pydantic!=1.8,!=1.8.1,!=2.0.0,!=2.0.1,!=2.1.0,<3.0.0,>=1.7.4->fastapi) (0.7.0)\n",
      "Requirement already satisfied: pydantic-core==2.41.4 in /Users/nausicaa/.pyenv/versions/3.12.6/lib/python3.12/site-packages (from pydantic!=1.8,!=1.8.1,!=2.0.0,!=2.0.1,!=2.1.0,<3.0.0,>=1.7.4->fastapi) (2.41.4)\n",
      "Requirement already satisfied: typing-inspection>=0.4.2 in /Users/nausicaa/.pyenv/versions/3.12.6/lib/python3.12/site-packages (from pydantic!=1.8,!=1.8.1,!=2.0.0,!=2.0.1,!=2.1.0,<3.0.0,>=1.7.4->fastapi) (0.4.2)\n",
      "Requirement already satisfied: anyio<5,>=3.6.2 in /Users/nausicaa/.pyenv/versions/3.12.6/lib/python3.12/site-packages (from starlette<0.49.0,>=0.40.0->fastapi) (4.11.0)\n",
      "Requirement already satisfied: sniffio>=1.1 in /Users/nausicaa/.pyenv/versions/3.12.6/lib/python3.12/site-packages (from anyio<5,>=3.6.2->starlette<0.49.0,>=0.40.0->fastapi) (1.3.1)\n",
      "Requirement already satisfied: attrs>=22.2.0 in /Users/nausicaa/.pyenv/versions/3.12.6/lib/python3.12/site-packages (from jsonschema>=3.0->altair!=5.4.0,!=5.4.1,<6,>=4.0->streamlit) (25.4.0)\n",
      "Requirement already satisfied: jsonschema-specifications>=2023.03.6 in /Users/nausicaa/.pyenv/versions/3.12.6/lib/python3.12/site-packages (from jsonschema>=3.0->altair!=5.4.0,!=5.4.1,<6,>=4.0->streamlit) (2025.9.1)\n",
      "Requirement already satisfied: referencing>=0.28.4 in /Users/nausicaa/.pyenv/versions/3.12.6/lib/python3.12/site-packages (from jsonschema>=3.0->altair!=5.4.0,!=5.4.1,<6,>=4.0->streamlit) (0.37.0)\n",
      "Requirement already satisfied: rpds-py>=0.7.1 in /Users/nausicaa/.pyenv/versions/3.12.6/lib/python3.12/site-packages (from jsonschema>=3.0->altair!=5.4.0,!=5.4.1,<6,>=4.0->streamlit) (0.27.1)\n",
      "Requirement already satisfied: six>=1.5 in /Users/nausicaa/.pyenv/versions/3.12.6/lib/python3.12/site-packages (from python-dateutil>=2.8.2->pandas<3,>=1.4.0->streamlit) (1.17.0)\n",
      "Note: you may need to restart the kernel to use updated packages.\n",
      "Requirement already satisfied: scikit-learn in /Users/nausicaa/.pyenv/versions/3.12.6/lib/python3.12/site-packages (1.7.2)\n",
      "Requirement already satisfied: tensorflow in /Users/nausicaa/.pyenv/versions/3.12.6/lib/python3.12/site-packages (2.20.0)\n",
      "Requirement already satisfied: torch in /Users/nausicaa/.pyenv/versions/3.12.6/lib/python3.12/site-packages (2.9.0)\n",
      "Requirement already satisfied: numpy>=1.22.0 in /Users/nausicaa/.pyenv/versions/3.12.6/lib/python3.12/site-packages (from scikit-learn) (2.2.6)\n",
      "Requirement already satisfied: scipy>=1.8.0 in /Users/nausicaa/.pyenv/versions/3.12.6/lib/python3.12/site-packages (from scikit-learn) (1.16.2)\n",
      "Requirement already satisfied: joblib>=1.2.0 in /Users/nausicaa/.pyenv/versions/3.12.6/lib/python3.12/site-packages (from scikit-learn) (1.5.2)\n",
      "Requirement already satisfied: threadpoolctl>=3.1.0 in /Users/nausicaa/.pyenv/versions/3.12.6/lib/python3.12/site-packages (from scikit-learn) (3.6.0)\n",
      "Requirement already satisfied: absl-py>=1.0.0 in /Users/nausicaa/.pyenv/versions/3.12.6/lib/python3.12/site-packages (from tensorflow) (2.3.1)\n",
      "Requirement already satisfied: astunparse>=1.6.0 in /Users/nausicaa/.pyenv/versions/3.12.6/lib/python3.12/site-packages (from tensorflow) (1.6.3)\n",
      "Requirement already satisfied: flatbuffers>=24.3.25 in /Users/nausicaa/.pyenv/versions/3.12.6/lib/python3.12/site-packages (from tensorflow) (25.9.23)\n",
      "Requirement already satisfied: gast!=0.5.0,!=0.5.1,!=0.5.2,>=0.2.1 in /Users/nausicaa/.pyenv/versions/3.12.6/lib/python3.12/site-packages (from tensorflow) (0.6.0)\n",
      "Requirement already satisfied: google_pasta>=0.1.1 in /Users/nausicaa/.pyenv/versions/3.12.6/lib/python3.12/site-packages (from tensorflow) (0.2.0)\n",
      "Requirement already satisfied: libclang>=13.0.0 in /Users/nausicaa/.pyenv/versions/3.12.6/lib/python3.12/site-packages (from tensorflow) (18.1.1)\n",
      "Requirement already satisfied: opt_einsum>=2.3.2 in /Users/nausicaa/.pyenv/versions/3.12.6/lib/python3.12/site-packages (from tensorflow) (3.4.0)\n",
      "Requirement already satisfied: packaging in /Users/nausicaa/.pyenv/versions/3.12.6/lib/python3.12/site-packages (from tensorflow) (25.0)\n",
      "Requirement already satisfied: protobuf>=5.28.0 in /Users/nausicaa/.pyenv/versions/3.12.6/lib/python3.12/site-packages (from tensorflow) (6.33.0)\n",
      "Requirement already satisfied: requests<3,>=2.21.0 in /Users/nausicaa/.pyenv/versions/3.12.6/lib/python3.12/site-packages (from tensorflow) (2.32.5)\n",
      "Requirement already satisfied: setuptools in /Users/nausicaa/.pyenv/versions/3.12.6/lib/python3.12/site-packages (from tensorflow) (80.9.0)\n",
      "Requirement already satisfied: six>=1.12.0 in /Users/nausicaa/.pyenv/versions/3.12.6/lib/python3.12/site-packages (from tensorflow) (1.17.0)\n",
      "Requirement already satisfied: termcolor>=1.1.0 in /Users/nausicaa/.pyenv/versions/3.12.6/lib/python3.12/site-packages (from tensorflow) (3.1.0)\n",
      "Requirement already satisfied: typing_extensions>=3.6.6 in /Users/nausicaa/.pyenv/versions/3.12.6/lib/python3.12/site-packages (from tensorflow) (4.15.0)\n",
      "Requirement already satisfied: wrapt>=1.11.0 in /Users/nausicaa/.pyenv/versions/3.12.6/lib/python3.12/site-packages (from tensorflow) (2.0.0)\n",
      "Requirement already satisfied: grpcio<2.0,>=1.24.3 in /Users/nausicaa/.pyenv/versions/3.12.6/lib/python3.12/site-packages (from tensorflow) (1.75.1)\n",
      "Requirement already satisfied: tensorboard~=2.20.0 in /Users/nausicaa/.pyenv/versions/3.12.6/lib/python3.12/site-packages (from tensorflow) (2.20.0)\n",
      "Requirement already satisfied: keras>=3.10.0 in /Users/nausicaa/.pyenv/versions/3.12.6/lib/python3.12/site-packages (from tensorflow) (3.11.3)\n",
      "Requirement already satisfied: h5py>=3.11.0 in /Users/nausicaa/.pyenv/versions/3.12.6/lib/python3.12/site-packages (from tensorflow) (3.15.1)\n",
      "Requirement already satisfied: ml_dtypes<1.0.0,>=0.5.1 in /Users/nausicaa/.pyenv/versions/3.12.6/lib/python3.12/site-packages (from tensorflow) (0.5.3)\n",
      "Requirement already satisfied: charset_normalizer<4,>=2 in /Users/nausicaa/.pyenv/versions/3.12.6/lib/python3.12/site-packages (from requests<3,>=2.21.0->tensorflow) (3.4.4)\n",
      "Requirement already satisfied: idna<4,>=2.5 in /Users/nausicaa/.pyenv/versions/3.12.6/lib/python3.12/site-packages (from requests<3,>=2.21.0->tensorflow) (3.11)\n",
      "Requirement already satisfied: urllib3<3,>=1.21.1 in /Users/nausicaa/.pyenv/versions/3.12.6/lib/python3.12/site-packages (from requests<3,>=2.21.0->tensorflow) (2.5.0)\n",
      "Requirement already satisfied: certifi>=2017.4.17 in /Users/nausicaa/.pyenv/versions/3.12.6/lib/python3.12/site-packages (from requests<3,>=2.21.0->tensorflow) (2025.10.5)\n",
      "Requirement already satisfied: markdown>=2.6.8 in /Users/nausicaa/.pyenv/versions/3.12.6/lib/python3.12/site-packages (from tensorboard~=2.20.0->tensorflow) (3.9)\n",
      "Requirement already satisfied: pillow in /Users/nausicaa/.pyenv/versions/3.12.6/lib/python3.12/site-packages (from tensorboard~=2.20.0->tensorflow) (11.3.0)\n",
      "Requirement already satisfied: tensorboard-data-server<0.8.0,>=0.7.0 in /Users/nausicaa/.pyenv/versions/3.12.6/lib/python3.12/site-packages (from tensorboard~=2.20.0->tensorflow) (0.7.2)\n",
      "Requirement already satisfied: werkzeug>=1.0.1 in /Users/nausicaa/.pyenv/versions/3.12.6/lib/python3.12/site-packages (from tensorboard~=2.20.0->tensorflow) (3.1.3)\n",
      "Requirement already satisfied: filelock in /Users/nausicaa/.pyenv/versions/3.12.6/lib/python3.12/site-packages (from torch) (3.20.0)\n",
      "Requirement already satisfied: sympy>=1.13.3 in /Users/nausicaa/.pyenv/versions/3.12.6/lib/python3.12/site-packages (from torch) (1.14.0)\n",
      "Requirement already satisfied: networkx>=2.5.1 in /Users/nausicaa/.pyenv/versions/3.12.6/lib/python3.12/site-packages (from torch) (3.5)\n",
      "Requirement already satisfied: jinja2 in /Users/nausicaa/.pyenv/versions/3.12.6/lib/python3.12/site-packages (from torch) (3.1.6)\n",
      "Requirement already satisfied: fsspec>=0.8.5 in /Users/nausicaa/.pyenv/versions/3.12.6/lib/python3.12/site-packages (from torch) (2025.9.0)\n",
      "Requirement already satisfied: wheel<1.0,>=0.23.0 in /Users/nausicaa/.pyenv/versions/3.12.6/lib/python3.12/site-packages (from astunparse>=1.6.0->tensorflow) (0.45.1)\n",
      "Requirement already satisfied: rich in /Users/nausicaa/.pyenv/versions/3.12.6/lib/python3.12/site-packages (from keras>=3.10.0->tensorflow) (14.2.0)\n",
      "Requirement already satisfied: namex in /Users/nausicaa/.pyenv/versions/3.12.6/lib/python3.12/site-packages (from keras>=3.10.0->tensorflow) (0.1.0)\n",
      "Requirement already satisfied: optree in /Users/nausicaa/.pyenv/versions/3.12.6/lib/python3.12/site-packages (from keras>=3.10.0->tensorflow) (0.17.0)\n",
      "Requirement already satisfied: mpmath<1.4,>=1.1.0 in /Users/nausicaa/.pyenv/versions/3.12.6/lib/python3.12/site-packages (from sympy>=1.13.3->torch) (1.3.0)\n",
      "Requirement already satisfied: MarkupSafe>=2.1.1 in /Users/nausicaa/.pyenv/versions/3.12.6/lib/python3.12/site-packages (from werkzeug>=1.0.1->tensorboard~=2.20.0->tensorflow) (3.0.3)\n",
      "Requirement already satisfied: markdown-it-py>=2.2.0 in /Users/nausicaa/.pyenv/versions/3.12.6/lib/python3.12/site-packages (from rich->keras>=3.10.0->tensorflow) (4.0.0)\n",
      "Requirement already satisfied: pygments<3.0.0,>=2.13.0 in /Users/nausicaa/.pyenv/versions/3.12.6/lib/python3.12/site-packages (from rich->keras>=3.10.0->tensorflow) (2.19.2)\n",
      "Requirement already satisfied: mdurl~=0.1 in /Users/nausicaa/.pyenv/versions/3.12.6/lib/python3.12/site-packages (from markdown-it-py>=2.2.0->rich->keras>=3.10.0->tensorflow) (0.1.2)\n",
      "Note: you may need to restart the kernel to use updated packages.\n",
      "Requirement already satisfied: fpdf in /Users/nausicaa/.pyenv/versions/3.12.6/lib/python3.12/site-packages (1.7.2)\n",
      "Note: you may need to restart the kernel to use updated packages.\n"
     ]
    }
   ],
   "source": [
    "# Install basic dependencies\n",
    "%pip install requests google-genai python-dotenv\n",
    "%pip install opencv-python pillow numpy pandas matplotlib seaborn\n",
    "%pip install ffmpeg-python moviepy\n",
    "%pip install streamlit flask fastapi\n",
    "%pip install scikit-learn tensorflow torch\n",
    "%pip install fpdf\n",
    "\n",
    "\n",
    "\n"
   ]
  },
  {
   "cell_type": "code",
   "execution_count": 2,
   "id": "53700daf",
   "metadata": {},
   "outputs": [
    {
     "name": "stdout",
     "output_type": "stream",
     "text": [
      "Requirement already satisfied: moviepy==1.0.3 in /Users/nausicaa/.pyenv/versions/3.12.6/lib/python3.12/site-packages (1.0.3)\n",
      "Requirement already satisfied: decorator<5.0,>=4.0.2 in /Users/nausicaa/.pyenv/versions/3.12.6/lib/python3.12/site-packages (from moviepy==1.0.3) (4.4.2)\n",
      "Requirement already satisfied: imageio<3.0,>=2.5 in /Users/nausicaa/.pyenv/versions/3.12.6/lib/python3.12/site-packages (from moviepy==1.0.3) (2.37.0)\n",
      "Requirement already satisfied: imageio_ffmpeg>=0.2.0 in /Users/nausicaa/.pyenv/versions/3.12.6/lib/python3.12/site-packages (from moviepy==1.0.3) (0.6.0)\n",
      "Requirement already satisfied: tqdm<5.0,>=4.11.2 in /Users/nausicaa/.pyenv/versions/3.12.6/lib/python3.12/site-packages (from moviepy==1.0.3) (4.67.1)\n",
      "Requirement already satisfied: numpy>=1.17.3 in /Users/nausicaa/.pyenv/versions/3.12.6/lib/python3.12/site-packages (from moviepy==1.0.3) (2.2.6)\n",
      "Requirement already satisfied: requests<3.0,>=2.8.1 in /Users/nausicaa/.pyenv/versions/3.12.6/lib/python3.12/site-packages (from moviepy==1.0.3) (2.32.5)\n",
      "Requirement already satisfied: proglog<=1.0.0 in /Users/nausicaa/.pyenv/versions/3.12.6/lib/python3.12/site-packages (from moviepy==1.0.3) (0.1.12)\n",
      "Requirement already satisfied: pillow>=8.3.2 in /Users/nausicaa/.pyenv/versions/3.12.6/lib/python3.12/site-packages (from imageio<3.0,>=2.5->moviepy==1.0.3) (11.3.0)\n",
      "Requirement already satisfied: charset_normalizer<4,>=2 in /Users/nausicaa/.pyenv/versions/3.12.6/lib/python3.12/site-packages (from requests<3.0,>=2.8.1->moviepy==1.0.3) (3.4.4)\n",
      "Requirement already satisfied: idna<4,>=2.5 in /Users/nausicaa/.pyenv/versions/3.12.6/lib/python3.12/site-packages (from requests<3.0,>=2.8.1->moviepy==1.0.3) (3.11)\n",
      "Requirement already satisfied: urllib3<3,>=1.21.1 in /Users/nausicaa/.pyenv/versions/3.12.6/lib/python3.12/site-packages (from requests<3.0,>=2.8.1->moviepy==1.0.3) (2.5.0)\n",
      "Requirement already satisfied: certifi>=2017.4.17 in /Users/nausicaa/.pyenv/versions/3.12.6/lib/python3.12/site-packages (from requests<3.0,>=2.8.1->moviepy==1.0.3) (2025.10.5)\n",
      "Note: you may need to restart the kernel to use updated packages.\n"
     ]
    }
   ],
   "source": [
    "%pip install moviepy==1.0.3\n",
    "\n",
    "\n"
   ]
  },
  {
   "cell_type": "code",
   "execution_count": 14,
   "id": "82699baf",
   "metadata": {},
   "outputs": [
    {
     "name": "stdout",
     "output_type": "stream",
     "text": [
      "✓ GEMINI_API_KEY is configured\n",
      "Key starts with: sk-GsbjtPU...\n",
      "✓ Python path updated\n"
     ]
    }
   ],
   "source": [
    "# Environment Setup and API Key Configuration\n",
    "import os\n",
    "import sys\n",
    "from dotenv import load_dotenv\n",
    "from pathlib import Path\n",
    "from moviepy.editor import VideoFileClip, TextClip, CompositeVideoClip\n",
    "# Load environment variables from .env file\n",
    "load_dotenv()\n",
    "\n",
    "# Set up API key for Gemini API\n",
    "os.environ['GEMINI_API_KEY'] = \"sk-GsbjtPUeDrJzI5Q58JTDwg\"\n",
    "\n",
    "# Set up Google Application Credentials for Vertex AI (if using)\n",
    "# os.environ['GOOGLE_APPLICATION_CREDENTIALS'] = \"/path/to/your/keyfile.json\"\n",
    "\n",
    "# Check if API key is set\n",
    "api_key = os.getenv('GEMINI_API_KEY')\n",
    "if not api_key:\n",
    "    print(\"GEMINI_API_KEY not found!\")\n",
    "    print(\"Please set your API key using one of these methods:\")\n",
    "    print(\"1. Set environment variable: export GEMINI_API_KEY='your_key'\")\n",
    "    print(\"2. Create .env file with: GEMINI_API_KEY=your_key\")\n",
    "    print(\"3. Or set it directly in this cell:\")\n",
    "    print(\"   os.environ['GEMINI_API_KEY'] = 'your_key'\")\n",
    "else:\n",
    "    print(\"✓ GEMINI_API_KEY is configured\")\n",
    "    print(f\"Key starts with: {api_key[:10]}...\")\n",
    "\n",
    "# Add current directory to Python path\n",
    "sys.path.append(os.getcwd())\n",
    "print(\"✓ Python path updated\")\n",
    "\n",
    "\n"
   ]
  },
  {
   "cell_type": "code",
   "execution_count": null,
   "id": "29085e9f",
   "metadata": {},
   "outputs": [
    {
     "name": "stdout",
     "output_type": "stream",
     "text": [
      "Created output directories\n",
      "Running solution...\n",
      "Created folder for solution 1: outputs/solution_01_vietnamese_video\n",
      "Generated character reference: outputs/solution_01_vietnamese_video/reference/character_nguoi_cao_tuoi.png\n",
      "Generated character reference: outputs/solution_01_vietnamese_video/reference/character_chuyen_gia.png\n"
     ]
    },
    {
     "name": "stderr",
     "output_type": "stream",
     "text": [
      "                                                               \n",
      "                                                               \n",
      "t:   2%|▏         | 116/7200 [04:53<07:39, 15.43it/s, now=None]"
     ]
    },
    {
     "name": "stdout",
     "output_type": "stream",
     "text": [
      "Generated background reference: outputs/solution_01_vietnamese_video/reference/background.png\n",
      "Creating silent video for segment 1...\n",
      "Moviepy - Building video outputs/solution_01_vietnamese_video/intermediate/video_1.mp4.\n",
      "Moviepy - Writing video outputs/solution_01_vietnamese_video/intermediate/video_1.mp4\n",
      "\n"
     ]
    },
    {
     "name": "stderr",
     "output_type": "stream",
     "text": [
      "\n",
      "\u001b[A\n",
      "\u001b[A\n",
      "\u001b[A\n",
      "\u001b[A\n",
      "\u001b[A\n",
      "                                                               \n",
      "                                                               \n",
      "                                                               \n",
      "                                                               \n",
      "t:   2%|▏         | 116/7200 [04:54<07:39, 15.43it/s, now=None]"
     ]
    },
    {
     "name": "stdout",
     "output_type": "stream",
     "text": [
      "Moviepy - Done !\n",
      "Moviepy - video ready outputs/solution_01_vietnamese_video/intermediate/video_1.mp4\n",
      "Creating silent video for segment 2...\n",
      "Moviepy - Building video outputs/solution_01_vietnamese_video/intermediate/video_2.mp4.\n",
      "Moviepy - Writing video outputs/solution_01_vietnamese_video/intermediate/video_2.mp4\n",
      "\n"
     ]
    },
    {
     "name": "stderr",
     "output_type": "stream",
     "text": [
      "\n",
      "\u001b[A\n",
      "\u001b[A\n",
      "\u001b[A\n",
      "                                                               \n",
      "                                                               \n",
      "                                                               \n",
      "                                                               \n",
      "t:   2%|▏         | 116/7200 [04:55<07:39, 15.43it/s, now=None]"
     ]
    },
    {
     "name": "stdout",
     "output_type": "stream",
     "text": [
      "Moviepy - Done !\n",
      "Moviepy - video ready outputs/solution_01_vietnamese_video/intermediate/video_2.mp4\n",
      "Creating silent video for segment 3...\n",
      "Moviepy - Building video outputs/solution_01_vietnamese_video/intermediate/video_3.mp4.\n",
      "Moviepy - Writing video outputs/solution_01_vietnamese_video/intermediate/video_3.mp4\n",
      "\n"
     ]
    },
    {
     "name": "stderr",
     "output_type": "stream",
     "text": [
      "\n",
      "\u001b[A\n",
      "\u001b[A\n",
      "\u001b[A\n",
      "                                                               \n",
      "                                                               \n",
      "                                                               \n",
      "                                                               \n",
      "t:   2%|▏         | 116/7200 [04:55<07:39, 15.43it/s, now=None]"
     ]
    },
    {
     "name": "stdout",
     "output_type": "stream",
     "text": [
      "Moviepy - Done !\n",
      "Moviepy - video ready outputs/solution_01_vietnamese_video/intermediate/video_3.mp4\n",
      "Creating silent video for segment 4...\n",
      "Moviepy - Building video outputs/solution_01_vietnamese_video/intermediate/video_4.mp4.\n",
      "Moviepy - Writing video outputs/solution_01_vietnamese_video/intermediate/video_4.mp4\n",
      "\n"
     ]
    },
    {
     "name": "stderr",
     "output_type": "stream",
     "text": [
      "\n",
      "\u001b[A\n",
      "\u001b[A\n",
      "\u001b[A\n",
      "                                                               \n",
      "                                                               \n",
      "                                                               \n",
      "                                                               \n",
      "t:   2%|▏         | 116/7200 [04:56<07:39, 15.43it/s, now=None]"
     ]
    },
    {
     "name": "stdout",
     "output_type": "stream",
     "text": [
      "Moviepy - Done !\n",
      "Moviepy - video ready outputs/solution_01_vietnamese_video/intermediate/video_4.mp4\n",
      "Creating silent video for segment 5...\n",
      "Moviepy - Building video outputs/solution_01_vietnamese_video/intermediate/video_5.mp4.\n",
      "Moviepy - Writing video outputs/solution_01_vietnamese_video/intermediate/video_5.mp4\n",
      "\n"
     ]
    },
    {
     "name": "stderr",
     "output_type": "stream",
     "text": [
      "\n",
      "\u001b[A\n",
      "\u001b[A\n",
      "\u001b[A\n",
      "                                                               \n",
      "                                                               \n",
      "                                                               \n",
      "                                                               \n",
      "t:   2%|▏         | 116/7200 [04:56<07:39, 15.43it/s, now=None]"
     ]
    },
    {
     "name": "stdout",
     "output_type": "stream",
     "text": [
      "Moviepy - Done !\n",
      "Moviepy - video ready outputs/solution_01_vietnamese_video/intermediate/video_5.mp4\n",
      "Creating silent video for segment 6...\n",
      "Moviepy - Building video outputs/solution_01_vietnamese_video/intermediate/video_6.mp4.\n",
      "Moviepy - Writing video outputs/solution_01_vietnamese_video/intermediate/video_6.mp4\n",
      "\n"
     ]
    },
    {
     "name": "stderr",
     "output_type": "stream",
     "text": [
      "\n",
      "\u001b[A\n",
      "\u001b[A\n",
      "\u001b[A\n",
      "                                                               \n",
      "                                                               \n",
      "                                                               \n",
      "                                                               \n",
      "t:   2%|▏         | 116/7200 [04:57<07:39, 15.43it/s, now=None]"
     ]
    },
    {
     "name": "stdout",
     "output_type": "stream",
     "text": [
      "Moviepy - Done !\n",
      "Moviepy - video ready outputs/solution_01_vietnamese_video/intermediate/video_6.mp4\n",
      "Creating silent video for segment 7...\n",
      "Moviepy - Building video outputs/solution_01_vietnamese_video/intermediate/video_7.mp4.\n",
      "Moviepy - Writing video outputs/solution_01_vietnamese_video/intermediate/video_7.mp4\n",
      "\n"
     ]
    },
    {
     "name": "stderr",
     "output_type": "stream",
     "text": [
      "\n",
      "\u001b[A\n",
      "\u001b[A\n",
      "\u001b[A\n",
      "                                                               \n",
      "                                                               \n",
      "                                                               \n",
      "                                                               \n",
      "t:   2%|▏         | 116/7200 [04:57<07:39, 15.43it/s, now=None]"
     ]
    },
    {
     "name": "stdout",
     "output_type": "stream",
     "text": [
      "Moviepy - Done !\n",
      "Moviepy - video ready outputs/solution_01_vietnamese_video/intermediate/video_7.mp4\n",
      "Creating silent video for segment 8...\n",
      "Moviepy - Building video outputs/solution_01_vietnamese_video/intermediate/video_8.mp4.\n",
      "Moviepy - Writing video outputs/solution_01_vietnamese_video/intermediate/video_8.mp4\n",
      "\n"
     ]
    },
    {
     "name": "stderr",
     "output_type": "stream",
     "text": [
      "\n",
      "\u001b[A\n",
      "\u001b[A\n",
      "\u001b[A\n",
      "                                                               \n",
      "                                                               \n",
      "                                                               \n",
      "                                                               \n",
      "t:   2%|▏         | 116/7200 [04:58<07:39, 15.43it/s, now=None]"
     ]
    },
    {
     "name": "stdout",
     "output_type": "stream",
     "text": [
      "Moviepy - Done !\n",
      "Moviepy - video ready outputs/solution_01_vietnamese_video/intermediate/video_8.mp4\n",
      "Creating silent video for segment 9...\n",
      "Moviepy - Building video outputs/solution_01_vietnamese_video/intermediate/video_9.mp4.\n",
      "Moviepy - Writing video outputs/solution_01_vietnamese_video/intermediate/video_9.mp4\n",
      "\n"
     ]
    },
    {
     "name": "stderr",
     "output_type": "stream",
     "text": [
      "\n",
      "\u001b[A\n",
      "\u001b[A\n",
      "\u001b[A\n",
      "                                                               \n",
      "                                                               \n",
      "                                                               \n",
      "                                                               \n",
      "t:   2%|▏         | 116/7200 [04:58<07:39, 15.43it/s, now=None]"
     ]
    },
    {
     "name": "stdout",
     "output_type": "stream",
     "text": [
      "Moviepy - Done !\n",
      "Moviepy - video ready outputs/solution_01_vietnamese_video/intermediate/video_9.mp4\n",
      "Creating silent video for segment 10...\n",
      "Moviepy - Building video outputs/solution_01_vietnamese_video/intermediate/video_10.mp4.\n",
      "Moviepy - Writing video outputs/solution_01_vietnamese_video/intermediate/video_10.mp4\n",
      "\n"
     ]
    },
    {
     "name": "stderr",
     "output_type": "stream",
     "text": [
      "\n",
      "\u001b[A\n",
      "\u001b[A\n",
      "\u001b[A\n",
      "                                                               \n",
      "                                                               \n",
      "                                                               \n",
      "                                                               \n",
      "t:   2%|▏         | 116/7200 [04:59<07:39, 15.43it/s, now=None]"
     ]
    },
    {
     "name": "stdout",
     "output_type": "stream",
     "text": [
      "Moviepy - Done !\n",
      "Moviepy - video ready outputs/solution_01_vietnamese_video/intermediate/video_10.mp4\n",
      "Creating silent video for segment 11...\n",
      "Moviepy - Building video outputs/solution_01_vietnamese_video/intermediate/video_11.mp4.\n",
      "Moviepy - Writing video outputs/solution_01_vietnamese_video/intermediate/video_11.mp4\n",
      "\n"
     ]
    },
    {
     "name": "stderr",
     "output_type": "stream",
     "text": [
      "\n",
      "\u001b[A\n",
      "\u001b[A\n",
      "\u001b[A\n",
      "                                                               \n",
      "                                                               \n",
      "                                                               \n",
      "                                                               \n",
      "t:   2%|▏         | 116/7200 [04:59<07:39, 15.43it/s, now=None]"
     ]
    },
    {
     "name": "stdout",
     "output_type": "stream",
     "text": [
      "Moviepy - Done !\n",
      "Moviepy - video ready outputs/solution_01_vietnamese_video/intermediate/video_11.mp4\n",
      "Creating silent video for segment 12...\n",
      "Moviepy - Building video outputs/solution_01_vietnamese_video/intermediate/video_12.mp4.\n",
      "Moviepy - Writing video outputs/solution_01_vietnamese_video/intermediate/video_12.mp4\n",
      "\n"
     ]
    },
    {
     "name": "stderr",
     "output_type": "stream",
     "text": [
      "\n",
      "\u001b[A\n",
      "\u001b[A\n",
      "\u001b[A\n",
      "                                                               \n",
      "                                                               \n",
      "                                                               \n",
      "                                                               \n",
      "t:   2%|▏         | 116/7200 [05:00<07:39, 15.43it/s, now=None]"
     ]
    },
    {
     "name": "stdout",
     "output_type": "stream",
     "text": [
      "Moviepy - Done !\n",
      "Moviepy - video ready outputs/solution_01_vietnamese_video/intermediate/video_12.mp4\n",
      "Creating silent video for segment 13...\n",
      "Moviepy - Building video outputs/solution_01_vietnamese_video/intermediate/video_13.mp4.\n",
      "Moviepy - Writing video outputs/solution_01_vietnamese_video/intermediate/video_13.mp4\n",
      "\n"
     ]
    },
    {
     "name": "stderr",
     "output_type": "stream",
     "text": [
      "\n",
      "\u001b[A\n",
      "\u001b[A\n",
      "\u001b[A\n",
      "                                                               \n",
      "                                                               \n",
      "                                                               \n",
      "                                                               \n",
      "t:   2%|▏         | 116/7200 [05:00<07:39, 15.43it/s, now=None]"
     ]
    },
    {
     "name": "stdout",
     "output_type": "stream",
     "text": [
      "Moviepy - Done !\n",
      "Moviepy - video ready outputs/solution_01_vietnamese_video/intermediate/video_13.mp4\n",
      "Creating silent video for segment 14...\n",
      "Moviepy - Building video outputs/solution_01_vietnamese_video/intermediate/video_14.mp4.\n",
      "Moviepy - Writing video outputs/solution_01_vietnamese_video/intermediate/video_14.mp4\n",
      "\n"
     ]
    },
    {
     "name": "stderr",
     "output_type": "stream",
     "text": [
      "\n",
      "\u001b[A\n",
      "\u001b[A\n",
      "\u001b[A\n",
      "\u001b[A\n",
      "\u001b[A\n",
      "\u001b[A\n",
      "                                                               \n",
      "                                                               \n",
      "                                                               \n",
      "                                                               \n",
      "t:   2%|▏         | 116/7200 [05:01<07:39, 15.43it/s, now=None]"
     ]
    },
    {
     "name": "stdout",
     "output_type": "stream",
     "text": [
      "Moviepy - Done !\n",
      "Moviepy - video ready outputs/solution_01_vietnamese_video/intermediate/video_14.mp4\n",
      "Creating silent video for segment 15...\n",
      "Moviepy - Building video outputs/solution_01_vietnamese_video/intermediate/video_15.mp4.\n",
      "Moviepy - Writing video outputs/solution_01_vietnamese_video/intermediate/video_15.mp4\n",
      "\n"
     ]
    },
    {
     "name": "stderr",
     "output_type": "stream",
     "text": [
      "\n",
      "\u001b[A\n",
      "\u001b[A\n",
      "\u001b[A\n",
      "                                                               \n",
      "                                                               \n",
      "                                                               \n",
      "                                                               \n",
      "t:   2%|▏         | 116/7200 [05:02<07:39, 15.43it/s, now=None]"
     ]
    },
    {
     "name": "stdout",
     "output_type": "stream",
     "text": [
      "Moviepy - Done !\n",
      "Moviepy - video ready outputs/solution_01_vietnamese_video/intermediate/video_15.mp4\n",
      "Creating silent video for segment 16...\n",
      "Moviepy - Building video outputs/solution_01_vietnamese_video/intermediate/video_16.mp4.\n",
      "Moviepy - Writing video outputs/solution_01_vietnamese_video/intermediate/video_16.mp4\n",
      "\n"
     ]
    },
    {
     "name": "stderr",
     "output_type": "stream",
     "text": [
      "\n",
      "\u001b[A\n",
      "\u001b[A\n",
      "\u001b[A\n",
      "\u001b[A\n",
      "                                                               \n",
      "                                                               \n",
      "                                                               \n",
      "                                                               \n",
      "t:   2%|▏         | 116/7200 [05:02<07:39, 15.43it/s, now=None]"
     ]
    },
    {
     "name": "stdout",
     "output_type": "stream",
     "text": [
      "Moviepy - Done !\n",
      "Moviepy - video ready outputs/solution_01_vietnamese_video/intermediate/video_16.mp4\n",
      "Creating silent video for segment 17...\n",
      "Moviepy - Building video outputs/solution_01_vietnamese_video/intermediate/video_17.mp4.\n",
      "Moviepy - Writing video outputs/solution_01_vietnamese_video/intermediate/video_17.mp4\n",
      "\n"
     ]
    },
    {
     "name": "stderr",
     "output_type": "stream",
     "text": [
      "\n",
      "\u001b[A\n",
      "\u001b[A\n",
      "\u001b[A\n",
      "                                                               \n",
      "                                                               \n",
      "                                                               \n",
      "                                                               \n",
      "t:   2%|▏         | 116/7200 [05:03<07:39, 15.43it/s, now=None]"
     ]
    },
    {
     "name": "stdout",
     "output_type": "stream",
     "text": [
      "Moviepy - Done !\n",
      "Moviepy - video ready outputs/solution_01_vietnamese_video/intermediate/video_17.mp4\n",
      "Creating silent video for segment 18...\n",
      "Moviepy - Building video outputs/solution_01_vietnamese_video/intermediate/video_18.mp4.\n",
      "Moviepy - Writing video outputs/solution_01_vietnamese_video/intermediate/video_18.mp4\n",
      "\n"
     ]
    },
    {
     "name": "stderr",
     "output_type": "stream",
     "text": [
      "\n",
      "\u001b[A\n",
      "\u001b[A\n",
      "\u001b[A\n",
      "                                                               \n",
      "                                                               \n",
      "                                                               \n",
      "                                                               \n",
      "t:   2%|▏         | 116/7200 [05:03<07:39, 15.43it/s, now=None]"
     ]
    },
    {
     "name": "stdout",
     "output_type": "stream",
     "text": [
      "Moviepy - Done !\n",
      "Moviepy - video ready outputs/solution_01_vietnamese_video/intermediate/video_18.mp4\n",
      "Creating silent video for segment 19...\n",
      "Moviepy - Building video outputs/solution_01_vietnamese_video/intermediate/video_19.mp4.\n",
      "Moviepy - Writing video outputs/solution_01_vietnamese_video/intermediate/video_19.mp4\n",
      "\n"
     ]
    },
    {
     "name": "stderr",
     "output_type": "stream",
     "text": [
      "\n",
      "\u001b[A\n",
      "\u001b[A\n",
      "\u001b[A\n",
      "\u001b[A\n",
      "                                                               \n",
      "                                                               \n",
      "                                                               \n",
      "                                                               \n",
      "t:   2%|▏         | 116/7200 [05:04<07:39, 15.43it/s, now=None]"
     ]
    },
    {
     "name": "stdout",
     "output_type": "stream",
     "text": [
      "Moviepy - Done !\n",
      "Moviepy - video ready outputs/solution_01_vietnamese_video/intermediate/video_19.mp4\n",
      "Creating silent video for segment 20...\n",
      "Moviepy - Building video outputs/solution_01_vietnamese_video/intermediate/video_20.mp4.\n",
      "Moviepy - Writing video outputs/solution_01_vietnamese_video/intermediate/video_20.mp4\n",
      "\n"
     ]
    },
    {
     "name": "stderr",
     "output_type": "stream",
     "text": [
      "\n",
      "\u001b[A\n",
      "\u001b[A\n",
      "\u001b[A\n",
      "                                                               \n",
      "                                                               \n",
      "                                                               \n",
      "                                                               \n",
      "t:   2%|▏         | 116/7200 [05:05<07:39, 15.43it/s, now=None]"
     ]
    },
    {
     "name": "stdout",
     "output_type": "stream",
     "text": [
      "Moviepy - Done !\n",
      "Moviepy - video ready outputs/solution_01_vietnamese_video/intermediate/video_20.mp4\n",
      "Creating silent video for segment 21...\n",
      "Moviepy - Building video outputs/solution_01_vietnamese_video/intermediate/video_21.mp4.\n",
      "Moviepy - Writing video outputs/solution_01_vietnamese_video/intermediate/video_21.mp4\n",
      "\n"
     ]
    },
    {
     "name": "stderr",
     "output_type": "stream",
     "text": [
      "\n",
      "\u001b[A\n",
      "\u001b[A\n",
      "\u001b[A\n",
      "                                                               \n",
      "                                                               \n",
      "                                                               \n",
      "                                                               \n",
      "t:   2%|▏         | 116/7200 [05:05<07:39, 15.43it/s, now=None]"
     ]
    },
    {
     "name": "stdout",
     "output_type": "stream",
     "text": [
      "Moviepy - Done !\n",
      "Moviepy - video ready outputs/solution_01_vietnamese_video/intermediate/video_21.mp4\n",
      "Creating silent video for segment 22...\n",
      "Moviepy - Building video outputs/solution_01_vietnamese_video/intermediate/video_22.mp4.\n",
      "Moviepy - Writing video outputs/solution_01_vietnamese_video/intermediate/video_22.mp4\n",
      "\n"
     ]
    },
    {
     "name": "stderr",
     "output_type": "stream",
     "text": [
      "\n",
      "\u001b[A\n",
      "\u001b[A\n",
      "\u001b[A\n",
      "                                                               \n",
      "                                                               \n",
      "                                                               \n",
      "                                                               \n",
      "t:   2%|▏         | 116/7200 [05:06<07:39, 15.43it/s, now=None]"
     ]
    },
    {
     "name": "stdout",
     "output_type": "stream",
     "text": [
      "Moviepy - Done !\n",
      "Moviepy - video ready outputs/solution_01_vietnamese_video/intermediate/video_22.mp4\n",
      "Creating silent video for segment 23...\n",
      "Moviepy - Building video outputs/solution_01_vietnamese_video/intermediate/video_23.mp4.\n",
      "Moviepy - Writing video outputs/solution_01_vietnamese_video/intermediate/video_23.mp4\n",
      "\n"
     ]
    },
    {
     "name": "stderr",
     "output_type": "stream",
     "text": [
      "\n",
      "\u001b[A\n",
      "\u001b[A\n",
      "\u001b[A\n",
      "                                                               \n",
      "                                                               \n",
      "                                                               \n",
      "                                                               \n",
      "t:   2%|▏         | 116/7200 [05:06<07:39, 15.43it/s, now=None]"
     ]
    },
    {
     "name": "stdout",
     "output_type": "stream",
     "text": [
      "Moviepy - Done !\n",
      "Moviepy - video ready outputs/solution_01_vietnamese_video/intermediate/video_23.mp4\n",
      "Creating silent video for segment 24...\n",
      "Moviepy - Building video outputs/solution_01_vietnamese_video/intermediate/video_24.mp4.\n",
      "Moviepy - Writing video outputs/solution_01_vietnamese_video/intermediate/video_24.mp4\n",
      "\n"
     ]
    },
    {
     "name": "stderr",
     "output_type": "stream",
     "text": [
      "\n",
      "\u001b[A\n",
      "\u001b[A\n",
      "\u001b[A\n",
      "\u001b[A\n",
      "                                                               \n",
      "                                                               \n",
      "                                                               \n",
      "                                                               \n",
      "t:   2%|▏         | 116/7200 [05:07<07:39, 15.43it/s, now=None]"
     ]
    },
    {
     "name": "stdout",
     "output_type": "stream",
     "text": [
      "Moviepy - Done !\n",
      "Moviepy - video ready outputs/solution_01_vietnamese_video/intermediate/video_24.mp4\n",
      "Creating silent video for segment 25...\n",
      "Moviepy - Building video outputs/solution_01_vietnamese_video/intermediate/video_25.mp4.\n",
      "Moviepy - Writing video outputs/solution_01_vietnamese_video/intermediate/video_25.mp4\n",
      "\n"
     ]
    },
    {
     "name": "stderr",
     "output_type": "stream",
     "text": [
      "\n",
      "\u001b[A\n",
      "\u001b[A\n",
      "\u001b[A\n",
      "\u001b[A\n",
      "                                                               \n",
      "                                                               \n",
      "                                                               \n",
      "                                                               \n",
      "t:   2%|▏         | 116/7200 [05:08<07:39, 15.43it/s, now=None]"
     ]
    },
    {
     "name": "stdout",
     "output_type": "stream",
     "text": [
      "Moviepy - Done !\n",
      "Moviepy - video ready outputs/solution_01_vietnamese_video/intermediate/video_25.mp4\n",
      "Creating silent video for segment 26...\n",
      "Moviepy - Building video outputs/solution_01_vietnamese_video/intermediate/video_26.mp4.\n",
      "Moviepy - Writing video outputs/solution_01_vietnamese_video/intermediate/video_26.mp4\n",
      "\n"
     ]
    },
    {
     "name": "stderr",
     "output_type": "stream",
     "text": [
      "\n",
      "\u001b[A\n",
      "\u001b[A\n",
      "\u001b[A\n",
      "                                                               \n",
      "                                                               \n",
      "                                                               \n",
      "                                                               \n",
      "t:   2%|▏         | 116/7200 [05:08<07:39, 15.43it/s, now=None]"
     ]
    },
    {
     "name": "stdout",
     "output_type": "stream",
     "text": [
      "Moviepy - Done !\n",
      "Moviepy - video ready outputs/solution_01_vietnamese_video/intermediate/video_26.mp4\n",
      "Creating silent video for segment 27...\n",
      "Moviepy - Building video outputs/solution_01_vietnamese_video/intermediate/video_27.mp4.\n",
      "Moviepy - Writing video outputs/solution_01_vietnamese_video/intermediate/video_27.mp4\n",
      "\n"
     ]
    },
    {
     "name": "stderr",
     "output_type": "stream",
     "text": [
      "\n",
      "\u001b[A\n",
      "\u001b[A\n",
      "\u001b[A\n",
      "                                                               \n",
      "                                                               \n",
      "                                                               \n",
      "                                                               \n",
      "t:   2%|▏         | 116/7200 [05:09<07:39, 15.43it/s, now=None]"
     ]
    },
    {
     "name": "stdout",
     "output_type": "stream",
     "text": [
      "Moviepy - Done !\n",
      "Moviepy - video ready outputs/solution_01_vietnamese_video/intermediate/video_27.mp4\n",
      "Creating silent video for segment 28...\n",
      "Moviepy - Building video outputs/solution_01_vietnamese_video/intermediate/video_28.mp4.\n",
      "Moviepy - Writing video outputs/solution_01_vietnamese_video/intermediate/video_28.mp4\n",
      "\n"
     ]
    },
    {
     "name": "stderr",
     "output_type": "stream",
     "text": [
      "\n",
      "\u001b[A\n",
      "\u001b[A\n",
      "\u001b[A\n",
      "                                                               \n",
      "                                                               \n",
      "                                                               \n",
      "                                                               \n",
      "t:   2%|▏         | 116/7200 [05:09<07:39, 15.43it/s, now=None]"
     ]
    },
    {
     "name": "stdout",
     "output_type": "stream",
     "text": [
      "Moviepy - Done !\n",
      "Moviepy - video ready outputs/solution_01_vietnamese_video/intermediate/video_28.mp4\n",
      "Creating silent video for segment 29...\n",
      "Moviepy - Building video outputs/solution_01_vietnamese_video/intermediate/video_29.mp4.\n",
      "Moviepy - Writing video outputs/solution_01_vietnamese_video/intermediate/video_29.mp4\n",
      "\n"
     ]
    },
    {
     "name": "stderr",
     "output_type": "stream",
     "text": [
      "\n",
      "\u001b[A\n",
      "\u001b[A\n",
      "\u001b[A\n",
      "                                                               \n",
      "                                                               \n",
      "                                                               \n",
      "                                                               \n",
      "t:   2%|▏         | 116/7200 [05:10<07:39, 15.43it/s, now=None]"
     ]
    },
    {
     "name": "stdout",
     "output_type": "stream",
     "text": [
      "Moviepy - Done !\n",
      "Moviepy - video ready outputs/solution_01_vietnamese_video/intermediate/video_29.mp4\n",
      "Creating silent video for segment 30...\n",
      "Moviepy - Building video outputs/solution_01_vietnamese_video/intermediate/video_30.mp4.\n",
      "Moviepy - Writing video outputs/solution_01_vietnamese_video/intermediate/video_30.mp4\n",
      "\n"
     ]
    },
    {
     "name": "stderr",
     "output_type": "stream",
     "text": [
      "\n",
      "\u001b[A\n",
      "\u001b[A\n",
      "\u001b[A\n",
      "                                                               \n",
      "                                                               \n",
      "t:   2%|▏         | 116/7200 [05:10<07:39, 15.43it/s, now=None]"
     ]
    },
    {
     "name": "stdout",
     "output_type": "stream",
     "text": [
      "Moviepy - Done !\n",
      "Moviepy - video ready outputs/solution_01_vietnamese_video/intermediate/video_30.mp4\n",
      "Concatenating video clips...\n"
     ]
    },
    {
     "name": "stderr",
     "output_type": "stream",
     "text": [
      "                                                               \n",
      "                                                               \n",
      "t:   2%|▏         | 116/7200 [05:13<07:39, 15.43it/s, now=None]"
     ]
    },
    {
     "name": "stdout",
     "output_type": "stream",
     "text": [
      "Overlaying GIF...\n",
      "Writing final video to outputs/solution_01_vietnamese_video/output_final.mp4...\n",
      "Moviepy - Building video outputs/solution_01_vietnamese_video/output_final.mp4.\n",
      "Moviepy - Writing video outputs/solution_01_vietnamese_video/output_final.mp4\n",
      "\n"
     ]
    },
    {
     "name": "stderr",
     "output_type": "stream",
     "text": [
      "\n",
      "\u001b[A\n",
      "\u001b[A\n",
      "\u001b[A\n",
      "\u001b[A\n",
      "\u001b[A\n",
      "\u001b[A\n",
      "\u001b[A\n",
      "\u001b[A\n",
      "\u001b[A\n",
      "\u001b[A\n",
      "\u001b[A\n",
      "\u001b[A\n",
      "\u001b[A\n",
      "\u001b[A\n",
      "\u001b[A\n",
      "\u001b[A\n",
      "\u001b[A\n",
      "\u001b[A\n",
      "\u001b[A\n",
      "\u001b[A\n",
      "\u001b[A\n",
      "\u001b[A\n",
      "\u001b[A\n",
      "\u001b[A\n",
      "\u001b[A\n",
      "\u001b[A\n",
      "\u001b[A\n",
      "\u001b[A\n",
      "\u001b[A\n",
      "\u001b[A\n",
      "\u001b[A\n",
      "\u001b[A\n",
      "\u001b[A\n",
      "                                                               \r"
     ]
    },
    {
     "ename": "OSError",
     "evalue": "MoviePy error: failed to read the first frame of video file image_ref/diaThan.gif. That might mean that the file is corrupted. That may also mean that you are using a deprecated version of FFMPEG. On Ubuntu/Debian for instance the version in the repos is deprecated. Please update to a recent version from the website.",
     "output_type": "error",
     "traceback": [
      "\u001b[31m---------------------------------------------------------------------------\u001b[39m",
      "\u001b[31mOSError\u001b[39m                                   Traceback (most recent call last)",
      "\u001b[36mCell\u001b[39m\u001b[36m \u001b[39m\u001b[32mIn[16]\u001b[39m\u001b[32m, line 14\u001b[39m\n\u001b[32m     12\u001b[39m \u001b[38;5;66;03m# Run the solution\u001b[39;00m\n\u001b[32m     13\u001b[39m \u001b[38;5;28mprint\u001b[39m(\u001b[33m\"\u001b[39m\u001b[33mRunning solution...\u001b[39m\u001b[33m\"\u001b[39m)\n\u001b[32m---> \u001b[39m\u001b[32m14\u001b[39m result = \u001b[43msolution\u001b[49m\u001b[43m.\u001b[49m\u001b[43msolve\u001b[49m\u001b[43m(\u001b[49m\u001b[43moutput_mgr\u001b[49m\u001b[43m)\u001b[49m\n\u001b[32m     15\u001b[39m \u001b[38;5;28mprint\u001b[39m(\u001b[33mf\u001b[39m\u001b[33m\"\u001b[39m\u001b[33mSolution result: \u001b[39m\u001b[38;5;132;01m{\u001b[39;00mresult\u001b[38;5;132;01m}\u001b[39;00m\u001b[33m\"\u001b[39m)\n",
      "\u001b[36mFile \u001b[39m\u001b[32m~/Documents/GitHub/trinova-team/solution.py:187\u001b[39m, in \u001b[36msolve\u001b[39m\u001b[34m(output_mgr)\u001b[39m\n\u001b[32m    185\u001b[39m output_path = \u001b[33mf\u001b[39m\u001b[33m\"\u001b[39m\u001b[38;5;132;01m{\u001b[39;00mfolder\u001b[38;5;132;01m}\u001b[39;00m\u001b[33m/output_final.mp4\u001b[39m\u001b[33m\"\u001b[39m\n\u001b[32m    186\u001b[39m \u001b[38;5;28mprint\u001b[39m(\u001b[33mf\u001b[39m\u001b[33m\"\u001b[39m\u001b[33mWriting final video to \u001b[39m\u001b[38;5;132;01m{\u001b[39;00moutput_path\u001b[38;5;132;01m}\u001b[39;00m\u001b[33m...\u001b[39m\u001b[33m\"\u001b[39m)\n\u001b[32m--> \u001b[39m\u001b[32m187\u001b[39m \u001b[43mfinal_composite\u001b[49m\u001b[43m.\u001b[49m\u001b[43mwrite_videofile\u001b[49m\u001b[43m(\u001b[49m\u001b[43moutput_path\u001b[49m\u001b[43m,\u001b[49m\u001b[43m \u001b[49m\u001b[43mcodec\u001b[49m\u001b[43m=\u001b[49m\u001b[33;43m\"\u001b[39;49m\u001b[33;43mlibx264\u001b[39;49m\u001b[33;43m\"\u001b[39;49m\u001b[43m,\u001b[49m\u001b[43m \u001b[49m\u001b[43mfps\u001b[49m\u001b[43m=\u001b[49m\u001b[32;43m30\u001b[39;49m\u001b[43m)\u001b[49m\n\u001b[32m    189\u001b[39m \u001b[38;5;66;03m# --- CLEANUP ---\u001b[39;00m\n\u001b[32m    190\u001b[39m \u001b[38;5;28;01mfor\u001b[39;00m c \u001b[38;5;129;01min\u001b[39;00m clips:\n",
      "\u001b[36mFile \u001b[39m\u001b[32m<decorator-gen-74>:2\u001b[39m, in \u001b[36mwrite_videofile\u001b[39m\u001b[34m(self, filename, fps, codec, bitrate, audio, audio_fps, preset, audio_nbytes, audio_codec, audio_bitrate, audio_bufsize, temp_audiofile, rewrite_audio, remove_temp, write_logfile, verbose, threads, ffmpeg_params, logger)\u001b[39m\n",
      "\u001b[36mFile \u001b[39m\u001b[32m~/.pyenv/versions/3.12.6/lib/python3.12/site-packages/moviepy/decorators.py:54\u001b[39m, in \u001b[36mrequires_duration\u001b[39m\u001b[34m(f, clip, *a, **k)\u001b[39m\n\u001b[32m     52\u001b[39m     \u001b[38;5;28;01mraise\u001b[39;00m \u001b[38;5;167;01mValueError\u001b[39;00m(\u001b[33m\"\u001b[39m\u001b[33mAttribute \u001b[39m\u001b[33m'\u001b[39m\u001b[33mduration\u001b[39m\u001b[33m'\u001b[39m\u001b[33m not set\u001b[39m\u001b[33m\"\u001b[39m)\n\u001b[32m     53\u001b[39m \u001b[38;5;28;01melse\u001b[39;00m:\n\u001b[32m---> \u001b[39m\u001b[32m54\u001b[39m     \u001b[38;5;28;01mreturn\u001b[39;00m \u001b[43mf\u001b[49m\u001b[43m(\u001b[49m\u001b[43mclip\u001b[49m\u001b[43m,\u001b[49m\u001b[43m \u001b[49m\u001b[43m*\u001b[49m\u001b[43ma\u001b[49m\u001b[43m,\u001b[49m\u001b[43m \u001b[49m\u001b[43m*\u001b[49m\u001b[43m*\u001b[49m\u001b[43mk\u001b[49m\u001b[43m)\u001b[49m\n",
      "\u001b[36mFile \u001b[39m\u001b[32m<decorator-gen-73>:2\u001b[39m, in \u001b[36mwrite_videofile\u001b[39m\u001b[34m(self, filename, fps, codec, bitrate, audio, audio_fps, preset, audio_nbytes, audio_codec, audio_bitrate, audio_bufsize, temp_audiofile, rewrite_audio, remove_temp, write_logfile, verbose, threads, ffmpeg_params, logger)\u001b[39m\n",
      "\u001b[36mFile \u001b[39m\u001b[32m~/.pyenv/versions/3.12.6/lib/python3.12/site-packages/moviepy/decorators.py:135\u001b[39m, in \u001b[36muse_clip_fps_by_default\u001b[39m\u001b[34m(f, clip, *a, **k)\u001b[39m\n\u001b[32m    130\u001b[39m new_a = [fun(arg) \u001b[38;5;28;01mif\u001b[39;00m (name==\u001b[33m'\u001b[39m\u001b[33mfps\u001b[39m\u001b[33m'\u001b[39m) \u001b[38;5;28;01melse\u001b[39;00m arg\n\u001b[32m    131\u001b[39m          \u001b[38;5;28;01mfor\u001b[39;00m (arg, name) \u001b[38;5;129;01min\u001b[39;00m \u001b[38;5;28mzip\u001b[39m(a, names)]\n\u001b[32m    132\u001b[39m new_kw = {k: fun(v) \u001b[38;5;28;01mif\u001b[39;00m k==\u001b[33m'\u001b[39m\u001b[33mfps\u001b[39m\u001b[33m'\u001b[39m \u001b[38;5;28;01melse\u001b[39;00m v\n\u001b[32m    133\u001b[39m          \u001b[38;5;28;01mfor\u001b[39;00m (k,v) \u001b[38;5;129;01min\u001b[39;00m k.items()}\n\u001b[32m--> \u001b[39m\u001b[32m135\u001b[39m \u001b[38;5;28;01mreturn\u001b[39;00m \u001b[43mf\u001b[49m\u001b[43m(\u001b[49m\u001b[43mclip\u001b[49m\u001b[43m,\u001b[49m\u001b[43m \u001b[49m\u001b[43m*\u001b[49m\u001b[43mnew_a\u001b[49m\u001b[43m,\u001b[49m\u001b[43m \u001b[49m\u001b[43m*\u001b[49m\u001b[43m*\u001b[49m\u001b[43mnew_kw\u001b[49m\u001b[43m)\u001b[49m\n",
      "\u001b[36mFile \u001b[39m\u001b[32m<decorator-gen-72>:2\u001b[39m, in \u001b[36mwrite_videofile\u001b[39m\u001b[34m(self, filename, fps, codec, bitrate, audio, audio_fps, preset, audio_nbytes, audio_codec, audio_bitrate, audio_bufsize, temp_audiofile, rewrite_audio, remove_temp, write_logfile, verbose, threads, ffmpeg_params, logger)\u001b[39m\n",
      "\u001b[36mFile \u001b[39m\u001b[32m~/.pyenv/versions/3.12.6/lib/python3.12/site-packages/moviepy/decorators.py:22\u001b[39m, in \u001b[36mconvert_masks_to_RGB\u001b[39m\u001b[34m(f, clip, *a, **k)\u001b[39m\n\u001b[32m     20\u001b[39m \u001b[38;5;28;01mif\u001b[39;00m clip.ismask:\n\u001b[32m     21\u001b[39m     clip = clip.to_RGB()\n\u001b[32m---> \u001b[39m\u001b[32m22\u001b[39m \u001b[38;5;28;01mreturn\u001b[39;00m \u001b[43mf\u001b[49m\u001b[43m(\u001b[49m\u001b[43mclip\u001b[49m\u001b[43m,\u001b[49m\u001b[43m \u001b[49m\u001b[43m*\u001b[49m\u001b[43ma\u001b[49m\u001b[43m,\u001b[49m\u001b[43m \u001b[49m\u001b[43m*\u001b[49m\u001b[43m*\u001b[49m\u001b[43mk\u001b[49m\u001b[43m)\u001b[49m\n",
      "\u001b[36mFile \u001b[39m\u001b[32m~/.pyenv/versions/3.12.6/lib/python3.12/site-packages/moviepy/video/VideoClip.py:300\u001b[39m, in \u001b[36mVideoClip.write_videofile\u001b[39m\u001b[34m(self, filename, fps, codec, bitrate, audio, audio_fps, preset, audio_nbytes, audio_codec, audio_bitrate, audio_bufsize, temp_audiofile, rewrite_audio, remove_temp, write_logfile, verbose, threads, ffmpeg_params, logger)\u001b[39m\n\u001b[32m    292\u001b[39m \u001b[38;5;28;01mif\u001b[39;00m make_audio:\n\u001b[32m    293\u001b[39m     \u001b[38;5;28mself\u001b[39m.audio.write_audiofile(audiofile, audio_fps,\n\u001b[32m    294\u001b[39m                                audio_nbytes, audio_bufsize,\n\u001b[32m    295\u001b[39m                                audio_codec, bitrate=audio_bitrate,\n\u001b[32m    296\u001b[39m                                write_logfile=write_logfile,\n\u001b[32m    297\u001b[39m                                verbose=verbose,\n\u001b[32m    298\u001b[39m                                logger=logger)\n\u001b[32m--> \u001b[39m\u001b[32m300\u001b[39m \u001b[43mffmpeg_write_video\u001b[49m\u001b[43m(\u001b[49m\u001b[38;5;28;43mself\u001b[39;49m\u001b[43m,\u001b[49m\u001b[43m \u001b[49m\u001b[43mfilename\u001b[49m\u001b[43m,\u001b[49m\u001b[43m \u001b[49m\u001b[43mfps\u001b[49m\u001b[43m,\u001b[49m\u001b[43m \u001b[49m\u001b[43mcodec\u001b[49m\u001b[43m,\u001b[49m\n\u001b[32m    301\u001b[39m \u001b[43m                   \u001b[49m\u001b[43mbitrate\u001b[49m\u001b[43m=\u001b[49m\u001b[43mbitrate\u001b[49m\u001b[43m,\u001b[49m\n\u001b[32m    302\u001b[39m \u001b[43m                   \u001b[49m\u001b[43mpreset\u001b[49m\u001b[43m=\u001b[49m\u001b[43mpreset\u001b[49m\u001b[43m,\u001b[49m\n\u001b[32m    303\u001b[39m \u001b[43m                   \u001b[49m\u001b[43mwrite_logfile\u001b[49m\u001b[43m=\u001b[49m\u001b[43mwrite_logfile\u001b[49m\u001b[43m,\u001b[49m\n\u001b[32m    304\u001b[39m \u001b[43m                   \u001b[49m\u001b[43maudiofile\u001b[49m\u001b[43m=\u001b[49m\u001b[43maudiofile\u001b[49m\u001b[43m,\u001b[49m\n\u001b[32m    305\u001b[39m \u001b[43m                   \u001b[49m\u001b[43mverbose\u001b[49m\u001b[43m=\u001b[49m\u001b[43mverbose\u001b[49m\u001b[43m,\u001b[49m\u001b[43m \u001b[49m\u001b[43mthreads\u001b[49m\u001b[43m=\u001b[49m\u001b[43mthreads\u001b[49m\u001b[43m,\u001b[49m\n\u001b[32m    306\u001b[39m \u001b[43m                   \u001b[49m\u001b[43mffmpeg_params\u001b[49m\u001b[43m=\u001b[49m\u001b[43mffmpeg_params\u001b[49m\u001b[43m,\u001b[49m\n\u001b[32m    307\u001b[39m \u001b[43m                   \u001b[49m\u001b[43mlogger\u001b[49m\u001b[43m=\u001b[49m\u001b[43mlogger\u001b[49m\u001b[43m)\u001b[49m\n\u001b[32m    309\u001b[39m \u001b[38;5;28;01mif\u001b[39;00m remove_temp \u001b[38;5;129;01mand\u001b[39;00m make_audio:\n\u001b[32m    310\u001b[39m     \u001b[38;5;28;01mif\u001b[39;00m os.path.exists(audiofile):\n",
      "\u001b[36mFile \u001b[39m\u001b[32m~/.pyenv/versions/3.12.6/lib/python3.12/site-packages/moviepy/video/io/ffmpeg_writer.py:220\u001b[39m, in \u001b[36mffmpeg_write_video\u001b[39m\u001b[34m(clip, filename, fps, codec, bitrate, preset, withmask, write_logfile, audiofile, verbose, threads, ffmpeg_params, logger)\u001b[39m\n\u001b[32m    213\u001b[39m \u001b[38;5;28;01mwith\u001b[39;00m FFMPEG_VideoWriter(filename, clip.size, fps, codec = codec,\n\u001b[32m    214\u001b[39m                             preset=preset, bitrate=bitrate, logfile=logfile,\n\u001b[32m    215\u001b[39m                             audiofile=audiofile, threads=threads,\n\u001b[32m    216\u001b[39m                             ffmpeg_params=ffmpeg_params) \u001b[38;5;28;01mas\u001b[39;00m writer:\n\u001b[32m    218\u001b[39m     nframes = \u001b[38;5;28mint\u001b[39m(clip.duration*fps)\n\u001b[32m--> \u001b[39m\u001b[32m220\u001b[39m \u001b[43m    \u001b[49m\u001b[38;5;28;43;01mfor\u001b[39;49;00m\u001b[43m \u001b[49m\u001b[43mt\u001b[49m\u001b[43m,\u001b[49m\u001b[43mframe\u001b[49m\u001b[43m \u001b[49m\u001b[38;5;129;43;01min\u001b[39;49;00m\u001b[43m \u001b[49m\u001b[43mclip\u001b[49m\u001b[43m.\u001b[49m\u001b[43miter_frames\u001b[49m\u001b[43m(\u001b[49m\u001b[43mlogger\u001b[49m\u001b[43m=\u001b[49m\u001b[43mlogger\u001b[49m\u001b[43m,\u001b[49m\u001b[43m \u001b[49m\u001b[43mwith_times\u001b[49m\u001b[43m=\u001b[49m\u001b[38;5;28;43;01mTrue\u001b[39;49;00m\u001b[43m,\u001b[49m\n\u001b[32m    221\u001b[39m \u001b[43m                                    \u001b[49m\u001b[43mfps\u001b[49m\u001b[43m=\u001b[49m\u001b[43mfps\u001b[49m\u001b[43m,\u001b[49m\u001b[43m \u001b[49m\u001b[43mdtype\u001b[49m\u001b[43m=\u001b[49m\u001b[33;43m\"\u001b[39;49m\u001b[33;43muint8\u001b[39;49m\u001b[33;43m\"\u001b[39;49m\u001b[43m)\u001b[49m\u001b[43m:\u001b[49m\n\u001b[32m    222\u001b[39m \u001b[43m        \u001b[49m\u001b[38;5;28;43;01mif\u001b[39;49;00m\u001b[43m \u001b[49m\u001b[43mwithmask\u001b[49m\u001b[43m:\u001b[49m\n\u001b[32m    223\u001b[39m \u001b[43m            \u001b[49m\u001b[43mmask\u001b[49m\u001b[43m \u001b[49m\u001b[43m=\u001b[49m\u001b[43m \u001b[49m\u001b[43m(\u001b[49m\u001b[32;43m255\u001b[39;49m\u001b[43m*\u001b[49m\u001b[43mclip\u001b[49m\u001b[43m.\u001b[49m\u001b[43mmask\u001b[49m\u001b[43m.\u001b[49m\u001b[43mget_frame\u001b[49m\u001b[43m(\u001b[49m\u001b[43mt\u001b[49m\u001b[43m)\u001b[49m\u001b[43m)\u001b[49m\n",
      "\u001b[36mFile \u001b[39m\u001b[32m~/.pyenv/versions/3.12.6/lib/python3.12/site-packages/moviepy/Clip.py:472\u001b[39m, in \u001b[36mClip.iter_frames\u001b[39m\u001b[34m(self, fps, with_times, logger, dtype)\u001b[39m\n\u001b[32m    470\u001b[39m logger = proglog.default_bar_logger(logger)\n\u001b[32m    471\u001b[39m \u001b[38;5;28;01mfor\u001b[39;00m t \u001b[38;5;129;01min\u001b[39;00m logger.iter_bar(t=np.arange(\u001b[32m0\u001b[39m, \u001b[38;5;28mself\u001b[39m.duration, \u001b[32m1.0\u001b[39m/fps)):\n\u001b[32m--> \u001b[39m\u001b[32m472\u001b[39m     frame = \u001b[38;5;28;43mself\u001b[39;49m\u001b[43m.\u001b[49m\u001b[43mget_frame\u001b[49m\u001b[43m(\u001b[49m\u001b[43mt\u001b[49m\u001b[43m)\u001b[49m\n\u001b[32m    473\u001b[39m     \u001b[38;5;28;01mif\u001b[39;00m (dtype \u001b[38;5;129;01mis\u001b[39;00m \u001b[38;5;129;01mnot\u001b[39;00m \u001b[38;5;28;01mNone\u001b[39;00m) \u001b[38;5;129;01mand\u001b[39;00m (frame.dtype != dtype):\n\u001b[32m    474\u001b[39m         frame = frame.astype(dtype)\n",
      "\u001b[36mFile \u001b[39m\u001b[32m<decorator-gen-30>:2\u001b[39m, in \u001b[36mget_frame\u001b[39m\u001b[34m(self, t)\u001b[39m\n",
      "\u001b[36mFile \u001b[39m\u001b[32m~/.pyenv/versions/3.12.6/lib/python3.12/site-packages/moviepy/decorators.py:89\u001b[39m, in \u001b[36mpreprocess_args.<locals>.wrapper\u001b[39m\u001b[34m(f, *a, **kw)\u001b[39m\n\u001b[32m     85\u001b[39m new_a = [fun(arg) \u001b[38;5;28;01mif\u001b[39;00m (name \u001b[38;5;129;01min\u001b[39;00m varnames) \u001b[38;5;28;01melse\u001b[39;00m arg\n\u001b[32m     86\u001b[39m          \u001b[38;5;28;01mfor\u001b[39;00m (arg, name) \u001b[38;5;129;01min\u001b[39;00m \u001b[38;5;28mzip\u001b[39m(a, names)]\n\u001b[32m     87\u001b[39m new_kw = {k: fun(v) \u001b[38;5;28;01mif\u001b[39;00m k \u001b[38;5;129;01min\u001b[39;00m varnames \u001b[38;5;28;01melse\u001b[39;00m v\n\u001b[32m     88\u001b[39m          \u001b[38;5;28;01mfor\u001b[39;00m (k,v) \u001b[38;5;129;01min\u001b[39;00m kw.items()}\n\u001b[32m---> \u001b[39m\u001b[32m89\u001b[39m \u001b[38;5;28;01mreturn\u001b[39;00m \u001b[43mf\u001b[49m\u001b[43m(\u001b[49m\u001b[43m*\u001b[49m\u001b[43mnew_a\u001b[49m\u001b[43m,\u001b[49m\u001b[43m \u001b[49m\u001b[43m*\u001b[49m\u001b[43m*\u001b[49m\u001b[43mnew_kw\u001b[49m\u001b[43m)\u001b[49m\n",
      "\u001b[36mFile \u001b[39m\u001b[32m~/.pyenv/versions/3.12.6/lib/python3.12/site-packages/moviepy/Clip.py:93\u001b[39m, in \u001b[36mClip.get_frame\u001b[39m\u001b[34m(self, t)\u001b[39m\n\u001b[32m     91\u001b[39m         \u001b[38;5;28;01mreturn\u001b[39;00m frame\n\u001b[32m     92\u001b[39m \u001b[38;5;28;01melse\u001b[39;00m:\n\u001b[32m---> \u001b[39m\u001b[32m93\u001b[39m     \u001b[38;5;28;01mreturn\u001b[39;00m \u001b[38;5;28;43mself\u001b[39;49m\u001b[43m.\u001b[49m\u001b[43mmake_frame\u001b[49m\u001b[43m(\u001b[49m\u001b[43mt\u001b[49m\u001b[43m)\u001b[49m\n",
      "\u001b[36mFile \u001b[39m\u001b[32m~/.pyenv/versions/3.12.6/lib/python3.12/site-packages/moviepy/video/compositing/CompositeVideoClip.py:111\u001b[39m, in \u001b[36mCompositeVideoClip.__init__.<locals>.make_frame\u001b[39m\u001b[34m(t)\u001b[39m\n\u001b[32m    109\u001b[39m f = \u001b[38;5;28mself\u001b[39m.bg.get_frame(t)\n\u001b[32m    110\u001b[39m \u001b[38;5;28;01mfor\u001b[39;00m c \u001b[38;5;129;01min\u001b[39;00m \u001b[38;5;28mself\u001b[39m.playing_clips(t):\n\u001b[32m--> \u001b[39m\u001b[32m111\u001b[39m         f = \u001b[43mc\u001b[49m\u001b[43m.\u001b[49m\u001b[43mblit_on\u001b[49m\u001b[43m(\u001b[49m\u001b[43mf\u001b[49m\u001b[43m,\u001b[49m\u001b[43m \u001b[49m\u001b[43mt\u001b[49m\u001b[43m)\u001b[49m\n\u001b[32m    112\u001b[39m \u001b[38;5;28;01mreturn\u001b[39;00m f\n",
      "\u001b[36mFile \u001b[39m\u001b[32m~/.pyenv/versions/3.12.6/lib/python3.12/site-packages/moviepy/video/VideoClip.py:527\u001b[39m, in \u001b[36mVideoClip.blit_on\u001b[39m\u001b[34m(self, picture, t)\u001b[39m\n\u001b[32m    523\u001b[39m ct = t - \u001b[38;5;28mself\u001b[39m.start  \u001b[38;5;66;03m# clip time\u001b[39;00m\n\u001b[32m    525\u001b[39m \u001b[38;5;66;03m# GET IMAGE AND MASK IF ANY\u001b[39;00m\n\u001b[32m--> \u001b[39m\u001b[32m527\u001b[39m img = \u001b[38;5;28;43mself\u001b[39;49m\u001b[43m.\u001b[49m\u001b[43mget_frame\u001b[49m\u001b[43m(\u001b[49m\u001b[43mct\u001b[49m\u001b[43m)\u001b[49m\n\u001b[32m    528\u001b[39m mask = \u001b[38;5;28mself\u001b[39m.mask.get_frame(ct) \u001b[38;5;28;01mif\u001b[39;00m \u001b[38;5;28mself\u001b[39m.mask \u001b[38;5;28;01melse\u001b[39;00m \u001b[38;5;28;01mNone\u001b[39;00m                \n\u001b[32m    530\u001b[39m \u001b[38;5;28;01mif\u001b[39;00m mask \u001b[38;5;129;01mis\u001b[39;00m \u001b[38;5;129;01mnot\u001b[39;00m \u001b[38;5;28;01mNone\u001b[39;00m \u001b[38;5;129;01mand\u001b[39;00m ((img.shape[\u001b[32m0\u001b[39m] != mask.shape[\u001b[32m0\u001b[39m]) \u001b[38;5;129;01mor\u001b[39;00m (img.shape[\u001b[32m1\u001b[39m] != mask.shape[\u001b[32m1\u001b[39m])):\n",
      "\u001b[36mFile \u001b[39m\u001b[32m<decorator-gen-30>:2\u001b[39m, in \u001b[36mget_frame\u001b[39m\u001b[34m(self, t)\u001b[39m\n",
      "\u001b[36mFile \u001b[39m\u001b[32m~/.pyenv/versions/3.12.6/lib/python3.12/site-packages/moviepy/decorators.py:89\u001b[39m, in \u001b[36mpreprocess_args.<locals>.wrapper\u001b[39m\u001b[34m(f, *a, **kw)\u001b[39m\n\u001b[32m     85\u001b[39m new_a = [fun(arg) \u001b[38;5;28;01mif\u001b[39;00m (name \u001b[38;5;129;01min\u001b[39;00m varnames) \u001b[38;5;28;01melse\u001b[39;00m arg\n\u001b[32m     86\u001b[39m          \u001b[38;5;28;01mfor\u001b[39;00m (arg, name) \u001b[38;5;129;01min\u001b[39;00m \u001b[38;5;28mzip\u001b[39m(a, names)]\n\u001b[32m     87\u001b[39m new_kw = {k: fun(v) \u001b[38;5;28;01mif\u001b[39;00m k \u001b[38;5;129;01min\u001b[39;00m varnames \u001b[38;5;28;01melse\u001b[39;00m v\n\u001b[32m     88\u001b[39m          \u001b[38;5;28;01mfor\u001b[39;00m (k,v) \u001b[38;5;129;01min\u001b[39;00m kw.items()}\n\u001b[32m---> \u001b[39m\u001b[32m89\u001b[39m \u001b[38;5;28;01mreturn\u001b[39;00m \u001b[43mf\u001b[49m\u001b[43m(\u001b[49m\u001b[43m*\u001b[49m\u001b[43mnew_a\u001b[49m\u001b[43m,\u001b[49m\u001b[43m \u001b[49m\u001b[43m*\u001b[49m\u001b[43m*\u001b[49m\u001b[43mnew_kw\u001b[49m\u001b[43m)\u001b[49m\n",
      "\u001b[36mFile \u001b[39m\u001b[32m~/.pyenv/versions/3.12.6/lib/python3.12/site-packages/moviepy/Clip.py:93\u001b[39m, in \u001b[36mClip.get_frame\u001b[39m\u001b[34m(self, t)\u001b[39m\n\u001b[32m     91\u001b[39m         \u001b[38;5;28;01mreturn\u001b[39;00m frame\n\u001b[32m     92\u001b[39m \u001b[38;5;28;01melse\u001b[39;00m:\n\u001b[32m---> \u001b[39m\u001b[32m93\u001b[39m     \u001b[38;5;28;01mreturn\u001b[39;00m \u001b[38;5;28;43mself\u001b[39;49m\u001b[43m.\u001b[49m\u001b[43mmake_frame\u001b[49m\u001b[43m(\u001b[49m\u001b[43mt\u001b[49m\u001b[43m)\u001b[49m\n",
      "\u001b[36mFile \u001b[39m\u001b[32m~/.pyenv/versions/3.12.6/lib/python3.12/site-packages/moviepy/Clip.py:136\u001b[39m, in \u001b[36mClip.fl.<locals>.<lambda>\u001b[39m\u001b[34m(t)\u001b[39m\n\u001b[32m    133\u001b[39m     apply_to = []\n\u001b[32m    135\u001b[39m \u001b[38;5;66;03m#mf = copy(self.make_frame)\u001b[39;00m\n\u001b[32m--> \u001b[39m\u001b[32m136\u001b[39m newclip = \u001b[38;5;28mself\u001b[39m.set_make_frame(\u001b[38;5;28;01mlambda\u001b[39;00m t: \u001b[43mfun\u001b[49m\u001b[43m(\u001b[49m\u001b[38;5;28;43mself\u001b[39;49m\u001b[43m.\u001b[49m\u001b[43mget_frame\u001b[49m\u001b[43m,\u001b[49m\u001b[43m \u001b[49m\u001b[43mt\u001b[49m\u001b[43m)\u001b[49m)\n\u001b[32m    138\u001b[39m \u001b[38;5;28;01mif\u001b[39;00m \u001b[38;5;129;01mnot\u001b[39;00m keep_duration:\n\u001b[32m    139\u001b[39m     newclip.duration = \u001b[38;5;28;01mNone\u001b[39;00m\n",
      "\u001b[36mFile \u001b[39m\u001b[32m~/.pyenv/versions/3.12.6/lib/python3.12/site-packages/moviepy/video/VideoClip.py:490\u001b[39m, in \u001b[36mVideoClip.fl_image.<locals>.<lambda>\u001b[39m\u001b[34m(gf, t)\u001b[39m\n\u001b[32m    485\u001b[39m \u001b[38;5;250m\u001b[39m\u001b[33;03m\"\"\"\u001b[39;00m\n\u001b[32m    486\u001b[39m \u001b[33;03mModifies the images of a clip by replacing the frame\u001b[39;00m\n\u001b[32m    487\u001b[39m \u001b[33;03m`get_frame(t)` by another frame,  `image_func(get_frame(t))`\u001b[39;00m\n\u001b[32m    488\u001b[39m \u001b[33;03m\"\"\"\u001b[39;00m\n\u001b[32m    489\u001b[39m apply_to = apply_to \u001b[38;5;129;01mor\u001b[39;00m []\n\u001b[32m--> \u001b[39m\u001b[32m490\u001b[39m \u001b[38;5;28;01mreturn\u001b[39;00m \u001b[38;5;28mself\u001b[39m.fl(\u001b[38;5;28;01mlambda\u001b[39;00m gf, t: image_func(\u001b[43mgf\u001b[49m\u001b[43m(\u001b[49m\u001b[43mt\u001b[49m\u001b[43m)\u001b[49m), apply_to)\n",
      "\u001b[36mFile \u001b[39m\u001b[32m<decorator-gen-30>:2\u001b[39m, in \u001b[36mget_frame\u001b[39m\u001b[34m(self, t)\u001b[39m\n",
      "\u001b[36mFile \u001b[39m\u001b[32m~/.pyenv/versions/3.12.6/lib/python3.12/site-packages/moviepy/decorators.py:89\u001b[39m, in \u001b[36mpreprocess_args.<locals>.wrapper\u001b[39m\u001b[34m(f, *a, **kw)\u001b[39m\n\u001b[32m     85\u001b[39m new_a = [fun(arg) \u001b[38;5;28;01mif\u001b[39;00m (name \u001b[38;5;129;01min\u001b[39;00m varnames) \u001b[38;5;28;01melse\u001b[39;00m arg\n\u001b[32m     86\u001b[39m          \u001b[38;5;28;01mfor\u001b[39;00m (arg, name) \u001b[38;5;129;01min\u001b[39;00m \u001b[38;5;28mzip\u001b[39m(a, names)]\n\u001b[32m     87\u001b[39m new_kw = {k: fun(v) \u001b[38;5;28;01mif\u001b[39;00m k \u001b[38;5;129;01min\u001b[39;00m varnames \u001b[38;5;28;01melse\u001b[39;00m v\n\u001b[32m     88\u001b[39m          \u001b[38;5;28;01mfor\u001b[39;00m (k,v) \u001b[38;5;129;01min\u001b[39;00m kw.items()}\n\u001b[32m---> \u001b[39m\u001b[32m89\u001b[39m \u001b[38;5;28;01mreturn\u001b[39;00m \u001b[43mf\u001b[49m\u001b[43m(\u001b[49m\u001b[43m*\u001b[49m\u001b[43mnew_a\u001b[49m\u001b[43m,\u001b[49m\u001b[43m \u001b[49m\u001b[43m*\u001b[49m\u001b[43m*\u001b[49m\u001b[43mnew_kw\u001b[49m\u001b[43m)\u001b[49m\n",
      "\u001b[36mFile \u001b[39m\u001b[32m~/.pyenv/versions/3.12.6/lib/python3.12/site-packages/moviepy/Clip.py:93\u001b[39m, in \u001b[36mClip.get_frame\u001b[39m\u001b[34m(self, t)\u001b[39m\n\u001b[32m     91\u001b[39m         \u001b[38;5;28;01mreturn\u001b[39;00m frame\n\u001b[32m     92\u001b[39m \u001b[38;5;28;01melse\u001b[39;00m:\n\u001b[32m---> \u001b[39m\u001b[32m93\u001b[39m     \u001b[38;5;28;01mreturn\u001b[39;00m \u001b[38;5;28;43mself\u001b[39;49m\u001b[43m.\u001b[49m\u001b[43mmake_frame\u001b[49m\u001b[43m(\u001b[49m\u001b[43mt\u001b[49m\u001b[43m)\u001b[49m\n",
      "\u001b[36mFile \u001b[39m\u001b[32m~/.pyenv/versions/3.12.6/lib/python3.12/site-packages/moviepy/Clip.py:136\u001b[39m, in \u001b[36mClip.fl.<locals>.<lambda>\u001b[39m\u001b[34m(t)\u001b[39m\n\u001b[32m    133\u001b[39m     apply_to = []\n\u001b[32m    135\u001b[39m \u001b[38;5;66;03m#mf = copy(self.make_frame)\u001b[39;00m\n\u001b[32m--> \u001b[39m\u001b[32m136\u001b[39m newclip = \u001b[38;5;28mself\u001b[39m.set_make_frame(\u001b[38;5;28;01mlambda\u001b[39;00m t: \u001b[43mfun\u001b[49m\u001b[43m(\u001b[49m\u001b[38;5;28;43mself\u001b[39;49m\u001b[43m.\u001b[49m\u001b[43mget_frame\u001b[49m\u001b[43m,\u001b[49m\u001b[43m \u001b[49m\u001b[43mt\u001b[49m\u001b[43m)\u001b[49m)\n\u001b[32m    138\u001b[39m \u001b[38;5;28;01mif\u001b[39;00m \u001b[38;5;129;01mnot\u001b[39;00m keep_duration:\n\u001b[32m    139\u001b[39m     newclip.duration = \u001b[38;5;28;01mNone\u001b[39;00m\n",
      "\u001b[36mFile \u001b[39m\u001b[32m~/.pyenv/versions/3.12.6/lib/python3.12/site-packages/moviepy/Clip.py:187\u001b[39m, in \u001b[36mClip.fl_time.<locals>.<lambda>\u001b[39m\u001b[34m(gf, t)\u001b[39m\n\u001b[32m    184\u001b[39m \u001b[38;5;28;01mif\u001b[39;00m apply_to \u001b[38;5;129;01mis\u001b[39;00m \u001b[38;5;28;01mNone\u001b[39;00m:\n\u001b[32m    185\u001b[39m     apply_to = []\n\u001b[32m--> \u001b[39m\u001b[32m187\u001b[39m \u001b[38;5;28;01mreturn\u001b[39;00m \u001b[38;5;28mself\u001b[39m.fl(\u001b[38;5;28;01mlambda\u001b[39;00m gf, t: \u001b[43mgf\u001b[49m\u001b[43m(\u001b[49m\u001b[43mt_func\u001b[49m\u001b[43m(\u001b[49m\u001b[43mt\u001b[49m\u001b[43m)\u001b[49m\u001b[43m)\u001b[49m, apply_to,\n\u001b[32m    188\u001b[39m                keep_duration=keep_duration)\n",
      "\u001b[36mFile \u001b[39m\u001b[32m<decorator-gen-30>:2\u001b[39m, in \u001b[36mget_frame\u001b[39m\u001b[34m(self, t)\u001b[39m\n",
      "\u001b[36mFile \u001b[39m\u001b[32m~/.pyenv/versions/3.12.6/lib/python3.12/site-packages/moviepy/decorators.py:89\u001b[39m, in \u001b[36mpreprocess_args.<locals>.wrapper\u001b[39m\u001b[34m(f, *a, **kw)\u001b[39m\n\u001b[32m     85\u001b[39m new_a = [fun(arg) \u001b[38;5;28;01mif\u001b[39;00m (name \u001b[38;5;129;01min\u001b[39;00m varnames) \u001b[38;5;28;01melse\u001b[39;00m arg\n\u001b[32m     86\u001b[39m          \u001b[38;5;28;01mfor\u001b[39;00m (arg, name) \u001b[38;5;129;01min\u001b[39;00m \u001b[38;5;28mzip\u001b[39m(a, names)]\n\u001b[32m     87\u001b[39m new_kw = {k: fun(v) \u001b[38;5;28;01mif\u001b[39;00m k \u001b[38;5;129;01min\u001b[39;00m varnames \u001b[38;5;28;01melse\u001b[39;00m v\n\u001b[32m     88\u001b[39m          \u001b[38;5;28;01mfor\u001b[39;00m (k,v) \u001b[38;5;129;01min\u001b[39;00m kw.items()}\n\u001b[32m---> \u001b[39m\u001b[32m89\u001b[39m \u001b[38;5;28;01mreturn\u001b[39;00m \u001b[43mf\u001b[49m\u001b[43m(\u001b[49m\u001b[43m*\u001b[49m\u001b[43mnew_a\u001b[49m\u001b[43m,\u001b[49m\u001b[43m \u001b[49m\u001b[43m*\u001b[49m\u001b[43m*\u001b[49m\u001b[43mnew_kw\u001b[49m\u001b[43m)\u001b[49m\n",
      "\u001b[36mFile \u001b[39m\u001b[32m~/.pyenv/versions/3.12.6/lib/python3.12/site-packages/moviepy/Clip.py:93\u001b[39m, in \u001b[36mClip.get_frame\u001b[39m\u001b[34m(self, t)\u001b[39m\n\u001b[32m     91\u001b[39m         \u001b[38;5;28;01mreturn\u001b[39;00m frame\n\u001b[32m     92\u001b[39m \u001b[38;5;28;01melse\u001b[39;00m:\n\u001b[32m---> \u001b[39m\u001b[32m93\u001b[39m     \u001b[38;5;28;01mreturn\u001b[39;00m \u001b[38;5;28;43mself\u001b[39;49m\u001b[43m.\u001b[49m\u001b[43mmake_frame\u001b[49m\u001b[43m(\u001b[49m\u001b[43mt\u001b[49m\u001b[43m)\u001b[49m\n",
      "\u001b[36mFile \u001b[39m\u001b[32m~/.pyenv/versions/3.12.6/lib/python3.12/site-packages/moviepy/video/io/VideoFileClip.py:105\u001b[39m, in \u001b[36mVideoFileClip.__init__.<locals>.<lambda>\u001b[39m\u001b[34m(t)\u001b[39m\n\u001b[32m    101\u001b[39m \u001b[38;5;28mself\u001b[39m.filename = \u001b[38;5;28mself\u001b[39m.reader.filename\n\u001b[32m    103\u001b[39m \u001b[38;5;28;01mif\u001b[39;00m has_mask:\n\u001b[32m--> \u001b[39m\u001b[32m105\u001b[39m     \u001b[38;5;28mself\u001b[39m.make_frame = \u001b[38;5;28;01mlambda\u001b[39;00m t: \u001b[38;5;28;43mself\u001b[39;49m\u001b[43m.\u001b[49m\u001b[43mreader\u001b[49m\u001b[43m.\u001b[49m\u001b[43mget_frame\u001b[49m\u001b[43m(\u001b[49m\u001b[43mt\u001b[49m\u001b[43m)\u001b[49m[:,:,:\u001b[32m3\u001b[39m]\n\u001b[32m    106\u001b[39m     mask_mf = \u001b[38;5;28;01mlambda\u001b[39;00m t: \u001b[38;5;28mself\u001b[39m.reader.get_frame(t)[:,:,\u001b[32m3\u001b[39m]/\u001b[32m255.0\u001b[39m\n\u001b[32m    107\u001b[39m     \u001b[38;5;28mself\u001b[39m.mask = (VideoClip(ismask=\u001b[38;5;28;01mTrue\u001b[39;00m, make_frame=mask_mf)\n\u001b[32m    108\u001b[39m                  .set_duration(\u001b[38;5;28mself\u001b[39m.duration))\n",
      "\u001b[36mFile \u001b[39m\u001b[32m~/.pyenv/versions/3.12.6/lib/python3.12/site-packages/moviepy/video/io/ffmpeg_reader.py:184\u001b[39m, in \u001b[36mFFMPEG_VideoReader.get_frame\u001b[39m\u001b[34m(self, t)\u001b[39m\n\u001b[32m    182\u001b[39m \u001b[38;5;28;01melse\u001b[39;00m:\n\u001b[32m    183\u001b[39m     \u001b[38;5;28mself\u001b[39m.skip_frames(pos-\u001b[38;5;28mself\u001b[39m.pos-\u001b[32m1\u001b[39m)\n\u001b[32m--> \u001b[39m\u001b[32m184\u001b[39m result = \u001b[38;5;28;43mself\u001b[39;49m\u001b[43m.\u001b[49m\u001b[43mread_frame\u001b[49m\u001b[43m(\u001b[49m\u001b[43m)\u001b[49m\n\u001b[32m    185\u001b[39m \u001b[38;5;28mself\u001b[39m.pos = pos\n\u001b[32m    186\u001b[39m \u001b[38;5;28;01mreturn\u001b[39;00m result\n",
      "\u001b[36mFile \u001b[39m\u001b[32m~/.pyenv/versions/3.12.6/lib/python3.12/site-packages/moviepy/video/io/ffmpeg_reader.py:133\u001b[39m, in \u001b[36mFFMPEG_VideoReader.read_frame\u001b[39m\u001b[34m(self)\u001b[39m\n\u001b[32m    123\u001b[39m     warnings.warn(\u001b[33m\"\u001b[39m\u001b[33mWarning: in file \u001b[39m\u001b[38;5;132;01m%s\u001b[39;00m\u001b[33m, \u001b[39m\u001b[33m\"\u001b[39m%(\u001b[38;5;28mself\u001b[39m.filename)+\n\u001b[32m    124\u001b[39m            \u001b[33m\"\u001b[39m\u001b[38;5;132;01m%d\u001b[39;00m\u001b[33m bytes wanted but \u001b[39m\u001b[38;5;132;01m%d\u001b[39;00m\u001b[33m bytes read,\u001b[39m\u001b[33m\"\u001b[39m%(nbytes, \u001b[38;5;28mlen\u001b[39m(s))+\n\u001b[32m    125\u001b[39m            \u001b[33m\"\u001b[39m\u001b[33mat frame \u001b[39m\u001b[38;5;132;01m%d\u001b[39;00m\u001b[33m/\u001b[39m\u001b[38;5;132;01m%d\u001b[39;00m\u001b[33m, at time \u001b[39m\u001b[38;5;132;01m%.02f\u001b[39;00m\u001b[33m/\u001b[39m\u001b[38;5;132;01m%.02f\u001b[39;00m\u001b[33m sec. \u001b[39m\u001b[33m\"\u001b[39m%(\n\u001b[32m   (...)\u001b[39m\u001b[32m    129\u001b[39m            \u001b[33m\"\u001b[39m\u001b[33mUsing the last valid frame instead.\u001b[39m\u001b[33m\"\u001b[39m,\n\u001b[32m    130\u001b[39m            \u001b[38;5;167;01mUserWarning\u001b[39;00m)\n\u001b[32m    132\u001b[39m     \u001b[38;5;28;01mif\u001b[39;00m \u001b[38;5;129;01mnot\u001b[39;00m \u001b[38;5;28mhasattr\u001b[39m(\u001b[38;5;28mself\u001b[39m, \u001b[33m'\u001b[39m\u001b[33mlastread\u001b[39m\u001b[33m'\u001b[39m):\n\u001b[32m--> \u001b[39m\u001b[32m133\u001b[39m         \u001b[38;5;28;01mraise\u001b[39;00m \u001b[38;5;167;01mIOError\u001b[39;00m((\u001b[33m\"\u001b[39m\u001b[33mMoviePy error: failed to read the first frame of \u001b[39m\u001b[33m\"\u001b[39m\n\u001b[32m    134\u001b[39m                        \u001b[33m\"\u001b[39m\u001b[33mvideo file \u001b[39m\u001b[38;5;132;01m%s\u001b[39;00m\u001b[33m. That might mean that the file is \u001b[39m\u001b[33m\"\u001b[39m\n\u001b[32m    135\u001b[39m                        \u001b[33m\"\u001b[39m\u001b[33mcorrupted. That may also mean that you are using \u001b[39m\u001b[33m\"\u001b[39m\n\u001b[32m    136\u001b[39m                        \u001b[33m\"\u001b[39m\u001b[33ma deprecated version of FFMPEG. On Ubuntu/Debian \u001b[39m\u001b[33m\"\u001b[39m\n\u001b[32m    137\u001b[39m                        \u001b[33m\"\u001b[39m\u001b[33mfor instance the version in the repos is deprecated. \u001b[39m\u001b[33m\"\u001b[39m\n\u001b[32m    138\u001b[39m                        \u001b[33m\"\u001b[39m\u001b[33mPlease update to a recent version from the website.\u001b[39m\u001b[33m\"\u001b[39m)%(\n\u001b[32m    139\u001b[39m                         \u001b[38;5;28mself\u001b[39m.filename))\n\u001b[32m    141\u001b[39m     result = \u001b[38;5;28mself\u001b[39m.lastread\n\u001b[32m    143\u001b[39m \u001b[38;5;28;01melse\u001b[39;00m:\n",
      "\u001b[31mOSError\u001b[39m: MoviePy error: failed to read the first frame of video file image_ref/diaThan.gif. That might mean that the file is corrupted. That may also mean that you are using a deprecated version of FFMPEG. On Ubuntu/Debian for instance the version in the repos is deprecated. Please update to a recent version from the website."
     ]
    },
    {
     "name": "stderr",
     "output_type": "stream",
     "text": [
      "\n",
      "\u001b[A"
     ]
    }
   ],
   "source": [
    "# Import and run solution.py\n",
    "import importlib\n",
    "import solution\n",
    "from output_manager import OutputManager\n",
    "\n",
    "# Reload the solution module to pick up changes\n",
    "importlib.reload(solution)\n",
    "\n",
    "# Create output manager\n",
    "output_mgr = OutputManager()\n",
    "\n",
    "# Run the solution\n",
    "print(\"Running solution...\")\n",
    "result = solution.solve(output_mgr)\n",
    "print(f\"Solution result: {result}\")\n",
    "\n",
    "\n"
   ]
  },
  {
   "cell_type": "code",
   "execution_count": null,
   "id": "f92e240f",
   "metadata": {},
   "outputs": [],
   "source": [
    "import os\n",
    "from pathlib import Path\n",
    "\n",
    "def check_outputs():\n",
    "    \"\"\"Check all output files created\"\"\"\n",
    "    output_dir = Path(\"outputs\")\n",
    "    \n",
    "    if not output_dir.exists():\n",
    "        print(\"No outputs directory found\")\n",
    "        return\n",
    "    \n",
    "    print(\"OUTPUT FILES:\")\n",
    "    print(\"=\" * 50)\n",
    "    \n",
    "    for folder in output_dir.iterdir():\n",
    "        if folder.is_dir():\n",
    "            print(f\"\\n{folder.name}:\")\n",
    "            \n",
    "            # Check final folder\n",
    "            final_folder = folder / \"final\"\n",
    "            if final_folder.exists():\n",
    "                for file in final_folder.iterdir():\n",
    "                    if file.is_file():\n",
    "                        size = file.stat().st_size\n",
    "                        if size > 1024*1024:\n",
    "                            size_str = f\"{size/(1024*1024):.1f} MB\"\n",
    "                        else:\n",
    "                            size_str = f\"{size/1024:.1f} KB\"\n",
    "                        print(f\"  - {file.name} ({size_str})\")\n",
    "            else:\n",
    "                print(\"  No final folder\")\n",
    "\n",
    "check_outputs()\n",
    "\n",
    "\n"
   ]
  },
  {
   "cell_type": "code",
   "execution_count": null,
   "id": "1873c80d",
   "metadata": {},
   "outputs": [],
   "source": []
  }
 ],
 "metadata": {
  "kernelspec": {
   "display_name": "Python 3",
   "language": "python",
   "name": "python3"
  },
  "language_info": {
   "codemirror_mode": {
    "name": "ipython",
    "version": 3
   },
   "file_extension": ".py",
   "mimetype": "text/x-python",
   "name": "python",
   "nbconvert_exporter": "python",
   "pygments_lexer": "ipython3",
   "version": "3.12.6"
  }
 },
 "nbformat": 4,
 "nbformat_minor": 5
}
